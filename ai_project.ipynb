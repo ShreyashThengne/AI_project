{
 "cells": [
  {
   "cell_type": "code",
   "execution_count": 18,
   "metadata": {
    "id": "-b4KtEylvOQy",
    "tags": []
   },
   "outputs": [],
   "source": [
    "import pandas as pd\n",
    "import numpy as np\n",
    "import math\n",
    "from sklearn.preprocessing import MinMaxScaler\n",
    "from sklearn.metrics import mean_squared_error\n",
    "\n",
    "import tensorflow as tf\n",
    "from tensorflow.keras.layers import LSTM, Dense, Bidirectional, Dropout\n",
    "from tensorflow.keras.models import Sequential"
   ]
  },
  {
   "cell_type": "code",
   "execution_count": 2,
   "metadata": {
    "colab": {
     "base_uri": "https://localhost:8080/",
     "height": 206
    },
    "id": "5-pHH0-3vYW1",
    "outputId": "994ed840-3e81-4c47-b7d3-8a87198d8595",
    "tags": []
   },
   "outputs": [
    {
     "data": {
      "text/html": [
       "<div>\n",
       "<style scoped>\n",
       "    .dataframe tbody tr th:only-of-type {\n",
       "        vertical-align: middle;\n",
       "    }\n",
       "\n",
       "    .dataframe tbody tr th {\n",
       "        vertical-align: top;\n",
       "    }\n",
       "\n",
       "    .dataframe thead th {\n",
       "        text-align: right;\n",
       "    }\n",
       "</style>\n",
       "<table border=\"1\" class=\"dataframe\">\n",
       "  <thead>\n",
       "    <tr style=\"text-align: right;\">\n",
       "      <th></th>\n",
       "      <th>Unnamed: 0</th>\n",
       "      <th>date</th>\n",
       "      <th>price</th>\n",
       "      <th>sentiment</th>\n",
       "    </tr>\n",
       "  </thead>\n",
       "  <tbody>\n",
       "    <tr>\n",
       "      <th>0</th>\n",
       "      <td>0</td>\n",
       "      <td>2021-11-10T00:00:00+00:00</td>\n",
       "      <td>66996.828029</td>\n",
       "      <td>0.0</td>\n",
       "    </tr>\n",
       "    <tr>\n",
       "      <th>1</th>\n",
       "      <td>1</td>\n",
       "      <td>2021-11-10T01:00:00+00:00</td>\n",
       "      <td>67020.628419</td>\n",
       "      <td>0.0</td>\n",
       "    </tr>\n",
       "    <tr>\n",
       "      <th>2</th>\n",
       "      <td>2</td>\n",
       "      <td>2021-11-10T02:00:00+00:00</td>\n",
       "      <td>66817.702353</td>\n",
       "      <td>0.0</td>\n",
       "    </tr>\n",
       "    <tr>\n",
       "      <th>3</th>\n",
       "      <td>3</td>\n",
       "      <td>2021-11-10T03:00:00+00:00</td>\n",
       "      <td>66484.709002</td>\n",
       "      <td>0.0</td>\n",
       "    </tr>\n",
       "    <tr>\n",
       "      <th>4</th>\n",
       "      <td>4</td>\n",
       "      <td>2021-11-10T04:00:00+00:00</td>\n",
       "      <td>66637.905036</td>\n",
       "      <td>0.0</td>\n",
       "    </tr>\n",
       "  </tbody>\n",
       "</table>\n",
       "</div>"
      ],
      "text/plain": [
       "   Unnamed: 0                       date         price  sentiment\n",
       "0           0  2021-11-10T00:00:00+00:00  66996.828029        0.0\n",
       "1           1  2021-11-10T01:00:00+00:00  67020.628419        0.0\n",
       "2           2  2021-11-10T02:00:00+00:00  66817.702353        0.0\n",
       "3           3  2021-11-10T03:00:00+00:00  66484.709002        0.0\n",
       "4           4  2021-11-10T04:00:00+00:00  66637.905036        0.0"
      ]
     },
     "execution_count": 2,
     "metadata": {},
     "output_type": "execute_result"
    }
   ],
   "source": [
    "data = pd.read_csv('final_dataset.csv')\n",
    "data.head()"
   ]
  },
  {
   "cell_type": "code",
   "execution_count": 3,
   "metadata": {
    "id": "0Fi23-wTrTa4",
    "tags": []
   },
   "outputs": [],
   "source": [
    "data = data[~(data['date'] == 0)]"
   ]
  },
  {
   "cell_type": "code",
   "execution_count": 4,
   "metadata": {
    "id": "5VdQDwtGsiWw",
    "tags": []
   },
   "outputs": [],
   "source": [
    "data = data[4587:].reset_index(drop=True)"
   ]
  },
  {
   "cell_type": "code",
   "execution_count": 5,
   "metadata": {
    "colab": {
     "base_uri": "https://localhost:8080/"
    },
    "id": "_zx_MAD3vZ65",
    "outputId": "3743c342-f18d-43ba-845f-cb2c483b5cee",
    "tags": []
   },
   "outputs": [
    {
     "data": {
      "text/plain": [
       "Index(['date', 'price', 'sentiment'], dtype='object')"
      ]
     },
     "execution_count": 5,
     "metadata": {},
     "output_type": "execute_result"
    }
   ],
   "source": [
    "if 'Unnamed: 0' in data.columns:\n",
    "    data.drop(['Unnamed: 0'], axis=1, inplace=True)\n",
    "data.columns"
   ]
  },
  {
   "cell_type": "code",
   "execution_count": 6,
   "metadata": {
    "colab": {
     "base_uri": "https://localhost:8080/"
    },
    "id": "dzS7o9xYvbhl",
    "outputId": "8b546f2d-3b7e-4417-f038-caa98e5f3c68",
    "tags": []
   },
   "outputs": [
    {
     "data": {
      "text/plain": [
       "(7678, 1)"
      ]
     },
     "execution_count": 6,
     "metadata": {},
     "output_type": "execute_result"
    }
   ],
   "source": [
    "mm_obj = MinMaxScaler()\n",
    "arr = mm_obj.fit_transform(data['price'].values.reshape(-1, 1))\n",
    "arr.shape"
   ]
  },
  {
   "cell_type": "code",
   "execution_count": 7,
   "metadata": {
    "id": "oL2oc3DnvfpN",
    "tags": []
   },
   "outputs": [],
   "source": [
    "sentiments = data['sentiment']\n",
    "# sentiments.values\n",
    "a = arr.copy()\n",
    "l = []\n",
    "for i in range(len(a)):\n",
    "    l.append([a[i][0], sentiments.values[i]])"
   ]
  },
  {
   "cell_type": "code",
   "execution_count": 32,
   "metadata": {
    "colab": {
     "base_uri": "https://localhost:8080/"
    },
    "id": "AyLoBhaavoAv",
    "outputId": "a690534b-0c91-41a1-f987-661783250107",
    "tags": []
   },
   "outputs": [],
   "source": [
    "new_arr = np.array(l)\n",
    "# new_arr[0:2, 0]"
   ]
  },
  {
   "cell_type": "code",
   "execution_count": 37,
   "metadata": {},
   "outputs": [],
   "source": [
    "new_arr = new_arr[1730:]"
   ]
  },
  {
   "cell_type": "code",
   "execution_count": 38,
   "metadata": {
    "colab": {
     "base_uri": "https://localhost:8080/"
    },
    "id": "kb4gXVRZvqS-",
    "outputId": "a71a8d40-47bb-4871-9ad2-bd1e9170ef5e",
    "tags": []
   },
   "outputs": [
    {
     "data": {
      "text/plain": [
       "((5708, 240, 2), (5708,))"
      ]
     },
     "execution_count": 38,
     "metadata": {},
     "output_type": "execute_result"
    }
   ],
   "source": [
    "# will be considering for 10 days when predicting, so 10x24hrs\n",
    "def format_arr(arr):\n",
    "    X = []\n",
    "    y = []\n",
    "\n",
    "    for i in range(len(arr) - 240):\n",
    "        X.append(arr[i:i+240])\n",
    "        y.append(arr[i+240, 0])\n",
    "    X = np.array(X)\n",
    "    y = np.array(y)\n",
    "\n",
    "    return X, y\n",
    "\n",
    "format_arr(new_arr)[0].shape, format_arr(new_arr)[1].shape"
   ]
  },
  {
   "cell_type": "code",
   "execution_count": 53,
   "metadata": {},
   "outputs": [
    {
     "data": {
      "text/plain": [
       "(5353, 595)"
      ]
     },
     "execution_count": 53,
     "metadata": {},
     "output_type": "execute_result"
    }
   ],
   "source": [
    "int(len(new_arr) * 0.9), len(new_arr) - int(len(new_arr) * 0.9)"
   ]
  },
  {
   "cell_type": "code",
   "execution_count": 69,
   "metadata": {
    "id": "HGoiz4HjvsDN",
    "tags": []
   },
   "outputs": [],
   "source": [
    "X_train, y_train = format_arr(new_arr[ : int(len(new_arr) * 0.9)])\n",
    "X_test, y_test = format_arr(new_arr[int(len(new_arr) * 0.9) : -240])\n",
    "\n",
    "# X_train.shape, y_train.shape, X_test.shape, y_test.shape\n",
    "\n",
    "X_train, y_train = format_arr(new_arr)"
   ]
  },
  {
   "cell_type": "code",
   "execution_count": 70,
   "metadata": {
    "colab": {
     "base_uri": "https://localhost:8080/"
    },
    "id": "snD8qbbY_LFu",
    "outputId": "21b8c691-9542-4a35-aeae-59e2506d4852",
    "tags": []
   },
   "outputs": [
    {
     "data": {
      "text/plain": [
       "((5708, 240, 2), (5708,))"
      ]
     },
     "execution_count": 70,
     "metadata": {},
     "output_type": "execute_result"
    }
   ],
   "source": [
    "X_train.shape, y_train.shape"
   ]
  },
  {
   "cell_type": "code",
   "execution_count": 41,
   "metadata": {
    "colab": {
     "base_uri": "https://localhost:8080/"
    },
    "id": "9n3YAzB8vwDb",
    "outputId": "e71aa0a8-cff8-4b31-fb3a-358d6f766569",
    "tags": []
   },
   "outputs": [],
   "source": [
    "myModel = Sequential([\n",
    "    Bidirectional(LSTM(239, return_sequences = True, input_shape = (240, 2))),\n",
    "    Dropout(0.2),\n",
    "    Bidirectional(LSTM(239, return_sequences = True)),\n",
    "    Dropout(0.2),\n",
    "    Bidirectional(LSTM(239)),\n",
    "    Dropout(0.2),\n",
    "    Dense(1, activation='linear')\n",
    "])\n",
    "myModel.compile(loss = 'mean_squared_error', optimizer = 'adam')\n",
    "# myModel.summary()"
   ]
  },
  {
   "cell_type": "code",
   "execution_count": 42,
   "metadata": {
    "colab": {
     "base_uri": "https://localhost:8080/"
    },
    "id": "C-ZXqYz1wD-N",
    "outputId": "b5b11dd8-3fb8-4c93-c113-86c373351bec",
    "tags": []
   },
   "outputs": [
    {
     "name": "stdout",
     "output_type": "stream",
     "text": [
      "Epoch 1/100\n",
      "115/115 [==============================] - 29s 177ms/step - loss: 0.0026\n",
      "Epoch 2/100\n",
      "115/115 [==============================] - 20s 176ms/step - loss: 4.9091e-04\n",
      "Epoch 3/100\n",
      "115/115 [==============================] - 20s 176ms/step - loss: 4.8423e-04\n",
      "Epoch 4/100\n",
      "115/115 [==============================] - 20s 176ms/step - loss: 4.3770e-04\n",
      "Epoch 5/100\n",
      "115/115 [==============================] - 20s 177ms/step - loss: 4.0378e-04\n",
      "Epoch 6/100\n",
      "115/115 [==============================] - 20s 177ms/step - loss: 4.6432e-04\n",
      "Epoch 7/100\n",
      "115/115 [==============================] - 20s 177ms/step - loss: 3.6511e-04\n",
      "Epoch 8/100\n",
      "115/115 [==============================] - 20s 176ms/step - loss: 3.3616e-04\n",
      "Epoch 9/100\n",
      "115/115 [==============================] - 20s 177ms/step - loss: 3.2159e-04\n",
      "Epoch 10/100\n",
      "115/115 [==============================] - 20s 178ms/step - loss: 3.0874e-04\n",
      "Epoch 11/100\n",
      "115/115 [==============================] - 20s 177ms/step - loss: 3.7710e-04\n",
      "Epoch 12/100\n",
      "115/115 [==============================] - 20s 178ms/step - loss: 3.0081e-04\n",
      "Epoch 13/100\n",
      "115/115 [==============================] - 20s 177ms/step - loss: 2.9382e-04\n",
      "Epoch 14/100\n",
      "115/115 [==============================] - 20s 177ms/step - loss: 2.5713e-04\n",
      "Epoch 15/100\n",
      "115/115 [==============================] - 20s 178ms/step - loss: 2.9610e-04\n",
      "Epoch 16/100\n",
      "115/115 [==============================] - 20s 176ms/step - loss: 2.5673e-04\n",
      "Epoch 17/100\n",
      "115/115 [==============================] - 20s 176ms/step - loss: 2.8880e-04\n",
      "Epoch 18/100\n",
      "115/115 [==============================] - 20s 175ms/step - loss: 2.5001e-04\n",
      "Epoch 19/100\n",
      "115/115 [==============================] - 20s 176ms/step - loss: 2.6050e-04\n",
      "Epoch 20/100\n",
      "115/115 [==============================] - 20s 176ms/step - loss: 2.3554e-04\n",
      "Epoch 21/100\n",
      "115/115 [==============================] - 21s 179ms/step - loss: 2.2926e-04\n",
      "Epoch 22/100\n",
      "115/115 [==============================] - 21s 182ms/step - loss: 2.6219e-04\n",
      "Epoch 23/100\n",
      "115/115 [==============================] - 20s 174ms/step - loss: 3.0255e-04\n",
      "Epoch 24/100\n",
      "115/115 [==============================] - 20s 176ms/step - loss: 2.1433e-04\n",
      "Epoch 25/100\n",
      "115/115 [==============================] - 20s 177ms/step - loss: 2.6845e-04\n",
      "Epoch 26/100\n",
      "115/115 [==============================] - 20s 177ms/step - loss: 2.4303e-04\n",
      "Epoch 27/100\n",
      "115/115 [==============================] - 20s 178ms/step - loss: 2.1917e-04\n",
      "Epoch 28/100\n",
      "115/115 [==============================] - 20s 177ms/step - loss: 2.1479e-04\n",
      "Epoch 29/100\n",
      "115/115 [==============================] - 20s 177ms/step - loss: 2.4773e-04\n",
      "Epoch 30/100\n",
      "115/115 [==============================] - 20s 177ms/step - loss: 2.5709e-04\n",
      "Epoch 31/100\n",
      "115/115 [==============================] - 20s 177ms/step - loss: 2.2729e-04\n",
      "Epoch 32/100\n",
      "115/115 [==============================] - 20s 178ms/step - loss: 2.0081e-04\n",
      "Epoch 33/100\n",
      "115/115 [==============================] - 20s 178ms/step - loss: 2.1705e-04\n",
      "Epoch 34/100\n",
      "115/115 [==============================] - 21s 178ms/step - loss: 2.0565e-04\n",
      "Epoch 35/100\n",
      "115/115 [==============================] - 20s 177ms/step - loss: 2.1926e-04\n",
      "Epoch 36/100\n",
      "115/115 [==============================] - 20s 177ms/step - loss: 2.0775e-04\n",
      "Epoch 37/100\n",
      "115/115 [==============================] - 21s 180ms/step - loss: 1.9713e-04\n",
      "Epoch 38/100\n",
      "115/115 [==============================] - 20s 178ms/step - loss: 2.3090e-04\n",
      "Epoch 39/100\n",
      "115/115 [==============================] - 20s 177ms/step - loss: 2.1832e-04\n",
      "Epoch 40/100\n",
      "115/115 [==============================] - 20s 177ms/step - loss: 1.8652e-04\n",
      "Epoch 41/100\n",
      "115/115 [==============================] - 20s 177ms/step - loss: 1.9706e-04\n",
      "Epoch 42/100\n",
      "115/115 [==============================] - 20s 177ms/step - loss: 2.0386e-04\n",
      "Epoch 43/100\n",
      "115/115 [==============================] - 20s 177ms/step - loss: 2.1970e-04\n",
      "Epoch 44/100\n",
      "115/115 [==============================] - 20s 177ms/step - loss: 2.0059e-04\n",
      "Epoch 45/100\n",
      "115/115 [==============================] - 20s 178ms/step - loss: 1.9256e-04\n",
      "Epoch 46/100\n",
      "115/115 [==============================] - 20s 177ms/step - loss: 1.8570e-04\n",
      "Epoch 47/100\n",
      "115/115 [==============================] - 20s 177ms/step - loss: 1.8408e-04\n",
      "Epoch 48/100\n",
      "115/115 [==============================] - 20s 177ms/step - loss: 2.4490e-04\n",
      "Epoch 49/100\n",
      "115/115 [==============================] - 20s 175ms/step - loss: 1.9327e-04\n",
      "Epoch 50/100\n",
      "115/115 [==============================] - 20s 177ms/step - loss: 1.8668e-04\n",
      "Epoch 51/100\n",
      "115/115 [==============================] - 20s 177ms/step - loss: 1.9568e-04\n",
      "Epoch 52/100\n",
      "115/115 [==============================] - 20s 176ms/step - loss: 2.2149e-04\n",
      "Epoch 53/100\n",
      "115/115 [==============================] - 20s 176ms/step - loss: 2.0983e-04\n",
      "Epoch 54/100\n",
      "115/115 [==============================] - 20s 178ms/step - loss: 1.9842e-04\n",
      "Epoch 55/100\n",
      "115/115 [==============================] - 20s 178ms/step - loss: 2.1875e-04\n",
      "Epoch 56/100\n",
      "115/115 [==============================] - 21s 179ms/step - loss: 1.7729e-04\n",
      "Epoch 57/100\n",
      "115/115 [==============================] - 21s 178ms/step - loss: 2.2024e-04\n",
      "Epoch 58/100\n",
      "115/115 [==============================] - 20s 178ms/step - loss: 1.8620e-04\n",
      "Epoch 59/100\n",
      "115/115 [==============================] - 20s 178ms/step - loss: 1.8966e-04\n",
      "Epoch 60/100\n",
      "115/115 [==============================] - 20s 178ms/step - loss: 1.8387e-04\n",
      "Epoch 61/100\n",
      "115/115 [==============================] - 21s 179ms/step - loss: 1.7916e-04\n",
      "Epoch 62/100\n",
      "115/115 [==============================] - 20s 178ms/step - loss: 1.8200e-04\n",
      "Epoch 63/100\n",
      "115/115 [==============================] - 20s 177ms/step - loss: 2.3596e-04\n",
      "Epoch 64/100\n",
      "115/115 [==============================] - 20s 177ms/step - loss: 1.8296e-04\n",
      "Epoch 65/100\n",
      "115/115 [==============================] - 20s 178ms/step - loss: 1.7592e-04\n",
      "Epoch 66/100\n",
      "115/115 [==============================] - 20s 177ms/step - loss: 1.9429e-04\n",
      "Epoch 67/100\n",
      "115/115 [==============================] - 21s 178ms/step - loss: 2.0716e-04\n",
      "Epoch 68/100\n",
      "115/115 [==============================] - 21s 179ms/step - loss: 1.8169e-04\n",
      "Epoch 69/100\n",
      "115/115 [==============================] - 20s 178ms/step - loss: 1.8407e-04\n",
      "Epoch 70/100\n",
      "115/115 [==============================] - 20s 178ms/step - loss: 1.6282e-04\n",
      "Epoch 71/100\n",
      "115/115 [==============================] - 20s 178ms/step - loss: 1.8818e-04\n",
      "Epoch 72/100\n",
      "115/115 [==============================] - 20s 178ms/step - loss: 1.9202e-04\n",
      "Epoch 73/100\n",
      "115/115 [==============================] - 20s 177ms/step - loss: 1.5710e-04\n",
      "Epoch 74/100\n",
      "115/115 [==============================] - 20s 176ms/step - loss: 1.9018e-04\n",
      "Epoch 75/100\n",
      "115/115 [==============================] - 20s 177ms/step - loss: 1.9822e-04\n",
      "Epoch 76/100\n",
      "115/115 [==============================] - 20s 177ms/step - loss: 1.5503e-04\n",
      "Epoch 77/100\n",
      "115/115 [==============================] - 20s 177ms/step - loss: 1.7285e-04\n",
      "Epoch 78/100\n",
      "115/115 [==============================] - 21s 179ms/step - loss: 1.9136e-04\n",
      "Epoch 79/100\n",
      "115/115 [==============================] - 21s 179ms/step - loss: 1.6155e-04\n",
      "Epoch 80/100\n",
      "115/115 [==============================] - 20s 178ms/step - loss: 2.0029e-04\n",
      "Epoch 81/100\n",
      "115/115 [==============================] - 20s 178ms/step - loss: 1.7365e-04\n",
      "Epoch 82/100\n",
      "115/115 [==============================] - 20s 177ms/step - loss: 1.8187e-04\n",
      "Epoch 83/100\n",
      "115/115 [==============================] - 20s 177ms/step - loss: 1.7714e-04\n",
      "Epoch 84/100\n",
      "115/115 [==============================] - 20s 177ms/step - loss: 1.8508e-04\n",
      "Epoch 85/100\n",
      "115/115 [==============================] - 20s 176ms/step - loss: 1.6755e-04\n",
      "Epoch 86/100\n",
      "115/115 [==============================] - 20s 176ms/step - loss: 1.7359e-04\n",
      "Epoch 87/100\n",
      "115/115 [==============================] - 20s 177ms/step - loss: 1.9408e-04\n",
      "Epoch 88/100\n",
      "115/115 [==============================] - 20s 176ms/step - loss: 1.8620e-04\n",
      "Epoch 89/100\n",
      "115/115 [==============================] - 20s 177ms/step - loss: 1.6608e-04\n",
      "Epoch 90/100\n",
      "115/115 [==============================] - 20s 177ms/step - loss: 1.5117e-04\n",
      "Epoch 91/100\n",
      "115/115 [==============================] - 20s 177ms/step - loss: 1.6858e-04\n",
      "Epoch 92/100\n",
      "115/115 [==============================] - 21s 179ms/step - loss: 1.6268e-04\n",
      "Epoch 93/100\n",
      "115/115 [==============================] - 20s 177ms/step - loss: 1.9115e-04\n",
      "Epoch 94/100\n",
      "115/115 [==============================] - 20s 176ms/step - loss: 1.5626e-04\n",
      "Epoch 95/100\n",
      "115/115 [==============================] - 20s 177ms/step - loss: 1.6008e-04\n",
      "Epoch 96/100\n",
      "115/115 [==============================] - 400s 4s/step - loss: 1.8632e-04\n",
      "Epoch 97/100\n",
      "115/115 [==============================] - 21s 179ms/step - loss: 2.0517e-04\n",
      "Epoch 98/100\n",
      "115/115 [==============================] - 20s 177ms/step - loss: 1.5043e-04\n",
      "Epoch 99/100\n",
      "115/115 [==============================] - 20s 177ms/step - loss: 1.6831e-04\n",
      "Epoch 100/100\n",
      "115/115 [==============================] - 20s 177ms/step - loss: 1.9654e-04\n"
     ]
    },
    {
     "data": {
      "text/plain": [
       "<keras.callbacks.History at 0x1aee9e6af10>"
      ]
     },
     "execution_count": 42,
     "metadata": {},
     "output_type": "execute_result"
    }
   ],
   "source": [
    "myModel.fit(X_train, y_train, epochs = 100, batch_size = 50, verbose = 1)\n",
    "# myModel.fit(X_train, y_train, epochs = 120, batch_size = 50, verbose = 1)"
   ]
  },
  {
   "cell_type": "code",
   "execution_count": 44,
   "metadata": {
    "colab": {
     "base_uri": "https://localhost:8080/",
     "height": 447
    },
    "id": "0gHc-oCQAD8X",
    "outputId": "34c0917b-2919-4f82-ec89-68f36135efe1",
    "tags": []
   },
   "outputs": [
    {
     "data": {
      "text/plain": [
       "[<matplotlib.lines.Line2D at 0x1b047863af0>]"
      ]
     },
     "execution_count": 44,
     "metadata": {},
     "output_type": "execute_result"
    },
    {
     "data": {
      "image/png": "[encoded data removed]",
      "text/plain": [
       "<Figure size 640x480 with 1 Axes>"
      ]
     },
     "metadata": {},
     "output_type": "display_data"
    }
   ],
   "source": [
    "import matplotlib.pyplot as plt\n",
    "\n",
    "plt.plot(myModel.history.history['loss'])"
   ]
  },
  {
   "cell_type": "code",
   "execution_count": 71,
   "metadata": {
    "colab": {
     "base_uri": "https://localhost:8080/"
    },
    "id": "1Gw2jFbtDMs0",
    "outputId": "4b738a5c-7459-4805-f4fb-75b3bacfd1f3",
    "tags": []
   },
   "outputs": [
    {
     "name": "stdout",
     "output_type": "stream",
     "text": [
      "132.64064866884857\n",
      "229.7990537230695\n"
     ]
    }
   ],
   "source": [
    "train_prediction = mm_obj.inverse_transform(myModel.predict(X_train))\n",
    "test_prediction = mm_obj.inverse_transform(myModel.predict(X_test))\n",
    "print(math.sqrt(mean_squared_error(mm_obj.inverse_transform(y_train.reshape(-1,1)),train_prediction)))\n",
    "print(math.sqrt(mean_squared_error(mm_obj.inverse_transform(y_test.reshape(-1,1)),test_prediction)))"
   ]
  },
  {
   "cell_type": "code",
   "execution_count": 23,
   "metadata": {
    "colab": {
     "base_uri": "https://localhost:8080/"
    },
    "id": "BV2BQ8K-EtWi",
    "outputId": "451c04c0-d180-4a04-a06c-3bcd0ba6f97d",
    "tags": []
   },
   "outputs": [],
   "source": [
    "# mm_obj.inverse_transform(y_train.reshape(-1,1))\n",
    "# train_prediction"
   ]
  },
  {
   "cell_type": "code",
   "execution_count": null,
   "metadata": {
    "id": "DY8tN6XpY7kE"
   },
   "outputs": [],
   "source": [
    "d = pd.read_csv(\"data.csv\")\n",
    "# d.values"
   ]
  },
  {
   "cell_type": "code",
   "execution_count": null,
   "metadata": {
    "id": "9Uryl5kfZKok"
   },
   "outputs": [],
   "source": [
    "a = d.values\n",
    "feat = mm_obj.transform(a[:,0].reshape(-1,1))\n",
    "l = []\n",
    "for i in range(len(feat)):\n",
    "    l.append([feat[i][0], a[i,1]])\n",
    "a = np.array(l)"
   ]
  },
  {
   "cell_type": "code",
   "execution_count": null,
   "metadata": {
    "colab": {
     "base_uri": "https://localhost:8080/"
    },
    "id": "LpAbV2rsa31O",
    "outputId": "ae3f7a75-9a25-4df6-8670-4b0ef8dfe59d"
   },
   "outputs": [
    {
     "name": "stdout",
     "output_type": "stream",
     "text": [
      "1/1 [==============================] - 0s 28ms/step\n"
     ]
    },
    {
     "data": {
      "text/plain": [
       "array([[29438.607]], dtype=float32)"
      ]
     },
     "execution_count": 37,
     "metadata": {},
     "output_type": "execute_result"
    }
   ],
   "source": [
    "mm_obj.inverse_transform(myModel.predict(a.reshape(1,a.shape[0], a.shape[1])))"
   ]
  },
  {
   "cell_type": "code",
   "execution_count": 47,
   "metadata": {
    "colab": {
     "base_uri": "https://localhost:8080/"
    },
    "id": "9goZQLTvcwfQ",
    "outputId": "3c270628-39b7-4a89-c863-4fd8bd913df5",
    "tags": []
   },
   "outputs": [
    {
     "name": "stdout",
     "output_type": "stream",
     "text": [
      "Requirement already satisfied: h5py in c:\\users\\shrey\\anaconda3\\envs\\gpu01\\lib\\site-packages (3.9.0)\n",
      "Requirement already satisfied: numpy>=1.17.3 in c:\\users\\shrey\\anaconda3\\envs\\gpu01\\lib\\site-packages (from h5py) (1.23.0)\n",
      "Note: you may need to restart the kernel to use updated packages.\n"
     ]
    }
   ],
   "source": [
    "%pip install h5py"
   ]
  },
  {
   "cell_type": "code",
   "execution_count": 48,
   "metadata": {
    "colab": {
     "base_uri": "https://localhost:8080/"
    },
    "id": "MSFgzXMBeKi7",
    "outputId": "64895873-cd7b-437b-9a66-f3aa28a60e13",
    "tags": []
   },
   "outputs": [],
   "source": [
    "myModel.save(\"model.h5\")"
   ]
  },
  {
   "cell_type": "code",
   "execution_count": null,
   "metadata": {},
   "outputs": [],
   "source": []
  }
 ],
 "metadata": {
  "accelerator": "GPU",
  "colab": {
   "gpuType": "T4",
   "provenance": []
  },
  "kernelspec": {
   "display_name": "Python 3 (ipykernel)",
   "language": "python",
   "name": "python3"
  },
  "language_info": {
   "codemirror_mode": {
    "name": "ipython",
    "version": 3
   },
   "file_extension": ".py",
   "mimetype": "text/x-python",
   "name": "python",
   "nbconvert_exporter": "python",
   "pygments_lexer": "ipython3",
   "version": "3.9.18"
  }
 },
 "nbformat": 4,
 "nbformat_minor": 4
}
