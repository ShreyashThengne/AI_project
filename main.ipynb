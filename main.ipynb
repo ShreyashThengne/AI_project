{
 "cells": [
  {
   "cell_type": "code",
   "execution_count": 1,
   "metadata": {},
   "outputs": [],
   "source": [
    "from datetime import datetime, timedelta\n",
    "import calendar\n",
    "import requests\n",
    "from textblob import TextBlob\n",
    "\n",
    "from tensorflow.keras.models import load_model\n",
    "from sklearn.preprocessing import MinMaxScaler\n",
    "import pandas as pd\n",
    "import numpy as np"
   ]
  },
  {
   "cell_type": "code",
   "execution_count": 2,
   "metadata": {},
   "outputs": [],
   "source": [
    "before = 10\n",
    "\n",
    "\n",
    "\n",
    "yesterday = datetime.now() - timedelta(days=1) - timedelta(days=before)\n",
    "date_for_news_u = yesterday.strftime(\"%Y-%m-%d\")\n",
    "date_for_news_l = (yesterday - timedelta(days=9)).strftime(\"%Y-%m-%d\")\n",
    "# print(date_for_news_u, date_for_news_l)\n",
    "\n",
    "\n",
    "date_for_coin = datetime.utcnow() - timedelta(days=before)\n",
    "date_c_u = date_for_coin.date()\n",
    "date_c_l = date_for_coin.date()\n",
    "\n",
    "date_for_coin_u = date_c_u.strftime(\"%d-%m-%Y %H:%M:%S\")\n",
    "date_for_coin_l = date_c_l.strftime(\"%d-%m-%Y %H:%M:%S\")\n",
    "\n",
    "date_for_coin_u = datetime.strptime(date_for_coin_u, \"%d-%m-%Y %H:%M:%S\") + timedelta(hours=1)\n",
    "date_for_coin_l = datetime.strptime(date_for_coin_l, \"%d-%m-%Y %H:%M:%S\") - timedelta(days=10)\n",
    "\n",
    "# print(date_for_coin_u, date_for_coin_l)\n",
    "date_for_coin_u = calendar.timegm(date_for_coin_u.utctimetuple())-1\n",
    "date_for_coin_l = calendar.timegm(date_for_coin_l.utctimetuple())\n",
    "# date_for_coin_u, date_for_coin_l"
   ]
  },
  {
   "cell_type": "markdown",
   "metadata": {},
   "source": [
    "news data"
   ]
  },
  {
   "cell_type": "code",
   "execution_count": 3,
   "metadata": {},
   "outputs": [
    {
     "data": {
      "text/plain": [
       "('2023-12-06', '2023-12-15', 1701820800, 1702688399)"
      ]
     },
     "execution_count": 3,
     "metadata": {},
     "output_type": "execute_result"
    }
   ],
   "source": [
    "date_for_news_l, date_for_news_u, date_for_coin_l, date_for_coin_u"
   ]
  },
  {
   "cell_type": "code",
   "execution_count": 4,
   "metadata": {},
   "outputs": [],
   "source": [
    "url = ('https://newsapi.org/v2/everything?'\n",
    "       'q=bitcoin+investment&'\n",
    "       f'from={date_for_news_l}&'\n",
    "       f'to={date_for_news_u}&'\n",
    "       'sortBy=popularity&'\n",
    "       'apiKey=abb843aff2e648ccb76d00bd7d7ccb67')\n",
    "\n",
    "response = requests.get(url)\n",
    "\n",
    "news_data = response.json()"
   ]
  },
  {
   "cell_type": "code",
   "execution_count": 5,
   "metadata": {},
   "outputs": [
    {
     "data": {
      "text/plain": [
       "3"
      ]
     },
     "execution_count": 5,
     "metadata": {},
     "output_type": "execute_result"
    }
   ],
   "source": [
    "len(news_data)"
   ]
  },
  {
   "cell_type": "code",
   "execution_count": 43,
   "metadata": {},
   "outputs": [],
   "source": [
    "data = news_data['articles']\n",
    "texts = []\n",
    "dates = []\n",
    "\n",
    "for article in data:\n",
    "    if article['description'] is None:\n",
    "        article['description'] = ''\n",
    "    overall_text = article['title'] + article['description'] + article['content']\n",
    "    date = article['publishedAt'][:10]\n",
    "    date = datetime.strptime(date, \"%Y-%m-%d\")\n",
    "\n",
    "    texts.append(overall_text)\n",
    "    dates.append(date)\n",
    "\n",
    "df_news = pd.DataFrame({\"text\": texts, \"date\": dates})"
   ]
  },
  {
   "cell_type": "code",
   "execution_count": 44,
   "metadata": {},
   "outputs": [
    {
     "data": {
      "text/html": [
       "<div>\n",
       "<style scoped>\n",
       "    .dataframe tbody tr th:only-of-type {\n",
       "        vertical-align: middle;\n",
       "    }\n",
       "\n",
       "    .dataframe tbody tr th {\n",
       "        vertical-align: top;\n",
       "    }\n",
       "\n",
       "    .dataframe thead th {\n",
       "        text-align: right;\n",
       "    }\n",
       "</style>\n",
       "<table border=\"1\" class=\"dataframe\">\n",
       "  <thead>\n",
       "    <tr style=\"text-align: right;\">\n",
       "      <th></th>\n",
       "      <th>text</th>\n",
       "      <th>date</th>\n",
       "    </tr>\n",
       "  </thead>\n",
       "  <tbody>\n",
       "    <tr>\n",
       "      <th>0</th>\n",
       "      <td>Bitcoin price surges by 175% amid US ETF hopes...</td>\n",
       "      <td>2023-12-06</td>\n",
       "    </tr>\n",
       "    <tr>\n",
       "      <th>1</th>\n",
       "      <td>El Salvador Bitcoin bonds clear regulatory hur...</td>\n",
       "      <td>2023-12-12</td>\n",
       "    </tr>\n",
       "    <tr>\n",
       "      <th>2</th>\n",
       "      <td>Is El Salvador's crypto push working? Experts ...</td>\n",
       "      <td>2023-12-13</td>\n",
       "    </tr>\n",
       "    <tr>\n",
       "      <th>3</th>\n",
       "      <td>Coinbase targets financially vulnerable young ...</td>\n",
       "      <td>2023-12-14</td>\n",
       "    </tr>\n",
       "    <tr>\n",
       "      <th>4</th>\n",
       "      <td>5 ‘90s Icons Who Have Not Had a Great Year2023...</td>\n",
       "      <td>2023-12-07</td>\n",
       "    </tr>\n",
       "    <tr>\n",
       "      <th>...</th>\n",
       "      <td>...</td>\n",
       "      <td>...</td>\n",
       "    </tr>\n",
       "    <tr>\n",
       "      <th>95</th>\n",
       "      <td>Sam Altman-linked Meanwhile Advisors creates B...</td>\n",
       "      <td>2023-12-07</td>\n",
       "    </tr>\n",
       "    <tr>\n",
       "      <th>96</th>\n",
       "      <td>BTC price clears $41K as Bitcoin digests US ma...</td>\n",
       "      <td>2023-12-13</td>\n",
       "    </tr>\n",
       "    <tr>\n",
       "      <th>97</th>\n",
       "      <td>Bitcoin bulls eye BTC price comeback as cash i...</td>\n",
       "      <td>2023-12-14</td>\n",
       "    </tr>\n",
       "    <tr>\n",
       "      <th>98</th>\n",
       "      <td>Bitcoin whales aim to reclaim $42K after BTC p...</td>\n",
       "      <td>2023-12-15</td>\n",
       "    </tr>\n",
       "    <tr>\n",
       "      <th>99</th>\n",
       "      <td>Less than 2% of El Salvador's population holds...</td>\n",
       "      <td>2023-12-09</td>\n",
       "    </tr>\n",
       "  </tbody>\n",
       "</table>\n",
       "<p>100 rows × 2 columns</p>\n",
       "</div>"
      ],
      "text/plain": [
       "                                                 text       date\n",
       "0   Bitcoin price surges by 175% amid US ETF hopes... 2023-12-06\n",
       "1   El Salvador Bitcoin bonds clear regulatory hur... 2023-12-12\n",
       "2   Is El Salvador's crypto push working? Experts ... 2023-12-13\n",
       "3   Coinbase targets financially vulnerable young ... 2023-12-14\n",
       "4   5 ‘90s Icons Who Have Not Had a Great Year2023... 2023-12-07\n",
       "..                                                ...        ...\n",
       "95  Sam Altman-linked Meanwhile Advisors creates B... 2023-12-07\n",
       "96  BTC price clears $41K as Bitcoin digests US ma... 2023-12-13\n",
       "97  Bitcoin bulls eye BTC price comeback as cash i... 2023-12-14\n",
       "98  Bitcoin whales aim to reclaim $42K after BTC p... 2023-12-15\n",
       "99  Less than 2% of El Salvador's population holds... 2023-12-09\n",
       "\n",
       "[100 rows x 2 columns]"
      ]
     },
     "execution_count": 44,
     "metadata": {},
     "output_type": "execute_result"
    }
   ],
   "source": [
    "df_news"
   ]
  },
  {
   "cell_type": "code",
   "execution_count": 45,
   "metadata": {},
   "outputs": [],
   "source": [
    "df_news = df_news.sort_values(by=['date']).reset_index(drop=True)"
   ]
  },
  {
   "cell_type": "code",
   "execution_count": 46,
   "metadata": {},
   "outputs": [],
   "source": [
    "# df_news[df_news[\"text\"] == \"[Removed][Removed][Removed]\"]\n",
    "df_news = df_news[~(df_news[\"text\"] == \"[Removed][Removed][Removed]\")]"
   ]
  },
  {
   "cell_type": "code",
   "execution_count": 47,
   "metadata": {},
   "outputs": [],
   "source": [
    "df_news['sentiment'] = df_news['text'].apply(lambda x: TextBlob(x).sentiment.polarity)\n",
    "# df_news.head()"
   ]
  },
  {
   "cell_type": "code",
   "execution_count": 48,
   "metadata": {},
   "outputs": [],
   "source": [
    "df_news['sentiment'] = df_news['sentiment'].apply(lambda x: 1 if x > 0 else (-1 if x < 0 else 0))\n",
    "# df_news"
   ]
  },
  {
   "cell_type": "code",
   "execution_count": 49,
   "metadata": {},
   "outputs": [],
   "source": [
    "df_news_new = pd.DataFrame(df_news.groupby('date')['sentiment'].mean()).reset_index()"
   ]
  },
  {
   "cell_type": "code",
   "execution_count": 50,
   "metadata": {},
   "outputs": [
    {
     "data": {
      "text/plain": [
       "(1701820800, 1702688399)"
      ]
     },
     "execution_count": 50,
     "metadata": {},
     "output_type": "execute_result"
    }
   ],
   "source": [
    "date_for_coin_l, date_for_coin_u"
   ]
  },
  {
   "cell_type": "code",
   "execution_count": 51,
   "metadata": {},
   "outputs": [],
   "source": [
    "url = f'https://api.coingecko.com/api/v3/coins/bitcoin/market_chart/range?vs_currency=usd&from={date_for_coin_l}&to={date_for_coin_u}'\n",
    "\n",
    "response = requests.get(url)\n",
    "\n",
    "coin_data = response.json()"
   ]
  },
  {
   "cell_type": "code",
   "execution_count": 52,
   "metadata": {},
   "outputs": [],
   "source": [
    "# coin_data['prices'].pop(125)"
   ]
  },
  {
   "cell_type": "code",
   "execution_count": 53,
   "metadata": {},
   "outputs": [],
   "source": [
    "data_crypto = coin_data['prices']\n",
    "# len(data_crypto)"
   ]
  },
  {
   "cell_type": "code",
   "execution_count": 54,
   "metadata": {},
   "outputs": [],
   "source": [
    "data_crypto = pd.DataFrame(data_crypto, columns=['date', 'price'])\n",
    "# data_crypto.drop('date', axis=1, inplace=True)\n",
    "data_crypto['date'] = data_crypto['date'].apply(lambda x: datetime.utcfromtimestamp(x / 1000)).values\n",
    "# data_crypto"
   ]
  },
  {
   "cell_type": "code",
   "execution_count": 55,
   "metadata": {},
   "outputs": [],
   "source": [
    "data_crypto['dummy_date'] = data_crypto['date'].apply(lambda x: x.date())\n",
    "# data_crypto"
   ]
  },
  {
   "cell_type": "code",
   "execution_count": 56,
   "metadata": {},
   "outputs": [],
   "source": [
    "df_news_new['dummy_date'] = df_news_new['date'].apply(lambda x: x.date())"
   ]
  },
  {
   "cell_type": "code",
   "execution_count": 57,
   "metadata": {},
   "outputs": [],
   "source": [
    "# data_crypto['dummy_date'].values"
   ]
  },
  {
   "cell_type": "code",
   "execution_count": 58,
   "metadata": {},
   "outputs": [],
   "source": [
    "# df_news_new"
   ]
  },
  {
   "cell_type": "code",
   "execution_count": 59,
   "metadata": {},
   "outputs": [],
   "source": [
    "data_crypto_with_sent = data_crypto.join(other=df_news_new.set_index('dummy_date'), on='dummy_date', how='left', rsuffix='_news')\n"
   ]
  },
  {
   "cell_type": "code",
   "execution_count": 60,
   "metadata": {},
   "outputs": [],
   "source": [
    "d = data_crypto_with_sent[['price', 'sentiment']]"
   ]
  },
  {
   "cell_type": "code",
   "execution_count": 61,
   "metadata": {},
   "outputs": [
    {
     "data": {
      "text/plain": [
       "date          0\n",
       "price         0\n",
       "dummy_date    0\n",
       "date_news     1\n",
       "sentiment     1\n",
       "dtype: int64"
      ]
     },
     "execution_count": 61,
     "metadata": {},
     "output_type": "execute_result"
    }
   ],
   "source": [
    "data_crypto_with_sent.isnull().sum()"
   ]
  },
  {
   "cell_type": "code",
   "execution_count": 62,
   "metadata": {},
   "outputs": [
    {
     "name": "stderr",
     "output_type": "stream",
     "text": [
      "C:\\Users\\shrey\\AppData\\Local\\Temp\\ipykernel_16584\\1721027733.py:1: SettingWithCopyWarning: \n",
      "A value is trying to be set on a copy of a slice from a DataFrame\n",
      "\n",
      "See the caveats in the documentation: https://pandas.pydata.org/pandas-docs/stable/user_guide/indexing.html#returning-a-view-versus-a-copy\n",
      "  d['sentiment'][239] = d['sentiment'][238]\n"
     ]
    }
   ],
   "source": [
    "d['sentiment'][239] = d['sentiment'][238]\n",
    "# d"
   ]
  },
  {
   "cell_type": "code",
   "execution_count": 63,
   "metadata": {},
   "outputs": [
    {
     "name": "stdout",
     "output_type": "stream",
     "text": [
      "Model: \"sequential_3\"\n",
      "_________________________________________________________________\n",
      "Layer (type)                 Output Shape              Param #   \n",
      "=================================================================\n",
      "bidirectional_10 (Bidirectio (None, 240, 478)          462704    \n",
      "_________________________________________________________________\n",
      "dropout_2 (Dropout)          (None, 240, 478)          0         \n",
      "_________________________________________________________________\n",
      "bidirectional_11 (Bidirectio (None, 240, 478)          1372816   \n",
      "_________________________________________________________________\n",
      "dropout_3 (Dropout)          (None, 240, 478)          0         \n",
      "_________________________________________________________________\n",
      "bidirectional_12 (Bidirectio (None, 478)               1372816   \n",
      "_________________________________________________________________\n",
      "dropout_4 (Dropout)          (None, 478)               0         \n",
      "_________________________________________________________________\n",
      "dense_3 (Dense)              (None, 1)                 479       \n",
      "=================================================================\n",
      "Total params: 3,208,815\n",
      "Trainable params: 3,208,815\n",
      "Non-trainable params: 0\n",
      "_________________________________________________________________\n"
     ]
    }
   ],
   "source": [
    "model = load_model('model.h5')\n",
    "model.summary()"
   ]
  },
  {
   "cell_type": "code",
   "execution_count": 64,
   "metadata": {},
   "outputs": [
    {
     "name": "stderr",
     "output_type": "stream",
     "text": [
      "C:\\Users\\shrey\\AppData\\Local\\Temp\\ipykernel_16584\\1366223278.py:1: SettingWithCopyWarning: \n",
      "A value is trying to be set on a copy of a slice from a DataFrame\n",
      "\n",
      "See the caveats in the documentation: https://pandas.pydata.org/pandas-docs/stable/user_guide/indexing.html#returning-a-view-versus-a-copy\n",
      "  d['sentiment'][d.isnull()['sentiment'] == True] = 0\n"
     ]
    }
   ],
   "source": [
    "d['sentiment'][d.isnull()['sentiment'] == True] = 0"
   ]
  },
  {
   "cell_type": "code",
   "execution_count": 65,
   "metadata": {},
   "outputs": [
    {
     "name": "stdout",
     "output_type": "stream",
     "text": [
      "WARNING:tensorflow:Model was constructed with shape (None, 240, 2) for input KerasTensor(type_spec=TensorSpec(shape=(None, 240, 2), dtype=tf.float32, name='bidirectional_10_input'), name='bidirectional_10_input', description=\"created by layer 'bidirectional_10_input'\"), but it was called on an input with incompatible shape (None, 241, 2).\n"
     ]
    }
   ],
   "source": [
    "a = d.values\n",
    "mm = MinMaxScaler()\n",
    "feat = mm.fit_transform(a[:,0].reshape(-1,1))\n",
    "l = []\n",
    "for i in range(len(feat)):\n",
    "    l.append([feat[i][0], a[i,1]])\n",
    "a = l\n",
    "\n",
    "days = 15\n",
    "\n",
    "pred = []\n",
    "a = np.array(a)\n",
    "for i in range(days * 24):\n",
    "    x = model.predict(a[i:].reshape(1,a[i:].shape[0], a[i:].shape[1]))\n",
    "    # print(x[0][0])\n",
    "    a = np.append(a, [[x[0][0], 0]], axis=0)\n",
    "    pred.append(x[0][0])"
   ]
  },
  {
   "cell_type": "code",
   "execution_count": 66,
   "metadata": {},
   "outputs": [],
   "source": [
    "# model.predict(a.reshape(1,a.shape[0], a.shape[1]))\n",
    "\n",
    "    # prev.append(a.pop(0))\n",
    "# a\n"
   ]
  },
  {
   "cell_type": "code",
   "execution_count": 67,
   "metadata": {},
   "outputs": [],
   "source": [
    "import matplotlib.pyplot as plt\n",
    "# plt.plot(a[:240])\n",
    "a = mm.inverse_transform(a[:,0].reshape(-1,1))\n",
    "pred = mm.inverse_transform(np.array(pred).reshape(-1,1))"
   ]
  },
  {
   "cell_type": "code",
   "execution_count": 68,
   "metadata": {},
   "outputs": [
    {
     "data": {
      "text/plain": [
       "array([[41910.07 ],\n",
       "       [41922.383],\n",
       "       [41961.094],\n",
       "       [41987.008],\n",
       "       [42005.637],\n",
       "       [42010.77 ],\n",
       "       [42025.188],\n",
       "       [42053.887],\n",
       "       [42080.297],\n",
       "       [42104.71 ],\n",
       "       [42115.52 ],\n",
       "       [42132.465],\n",
       "       [42167.176],\n",
       "       [42207.562],\n",
       "       [42231.59 ],\n",
       "       [42241.414],\n",
       "       [42261.293],\n",
       "       [42284.004],\n",
       "       [42314.13 ],\n",
       "       [42342.297],\n",
       "       [42370.07 ],\n",
       "       [42384.6  ],\n",
       "       [42397.848],\n",
       "       [42421.53 ],\n",
       "       [42438.75 ],\n",
       "       [42464.21 ],\n",
       "       [42485.06 ],\n",
       "       [42503.79 ],\n",
       "       [42530.062],\n",
       "       [42549.02 ],\n",
       "       [42571.55 ],\n",
       "       [42594.266],\n",
       "       [42612.97 ],\n",
       "       [42631.027],\n",
       "       [42645.96 ],\n",
       "       [42652.91 ],\n",
       "       [42654.348],\n",
       "       [42660.152],\n",
       "       [42679.06 ],\n",
       "       [42717.05 ],\n",
       "       [42730.7  ],\n",
       "       [42736.945],\n",
       "       [42749.977],\n",
       "       [42754.207],\n",
       "       [42772.39 ],\n",
       "       [42780.58 ],\n",
       "       [42783.484],\n",
       "       [42799.977],\n",
       "       [42812.906],\n",
       "       [42825.71 ],\n",
       "       [42834.05 ],\n",
       "       [42844.44 ],\n",
       "       [42860.56 ],\n",
       "       [42879.336],\n",
       "       [42889.992],\n",
       "       [42892.38 ],\n",
       "       [42899.562],\n",
       "       [42903.277],\n",
       "       [42914.453],\n",
       "       [42931.348],\n",
       "       [42934.195],\n",
       "       [42946.617],\n",
       "       [42969.11 ],\n",
       "       [42989.883],\n",
       "       [42997.293],\n",
       "       [43000.09 ],\n",
       "       [43006.664],\n",
       "       [43014.51 ],\n",
       "       [43040.715],\n",
       "       [43058.016],\n",
       "       [43066.793],\n",
       "       [43087.312],\n",
       "       [43097.8  ],\n",
       "       [43108.844],\n",
       "       [43117.016],\n",
       "       [43121.42 ],\n",
       "       [43142.38 ],\n",
       "       [43155.047],\n",
       "       [43169.637],\n",
       "       [43178.742],\n",
       "       [43178.504],\n",
       "       [43191.777],\n",
       "       [43198.258],\n",
       "       [43192.414],\n",
       "       [43194.516],\n",
       "       [43197.242],\n",
       "       [43209.094],\n",
       "       [43228.12 ],\n",
       "       [43228.65 ],\n",
       "       [43224.402],\n",
       "       [43224.746],\n",
       "       [43231.46 ],\n",
       "       [43246.35 ],\n",
       "       [43255.438],\n",
       "       [43248.996],\n",
       "       [43243.23 ],\n",
       "       [43244.46 ],\n",
       "       [43253.246],\n",
       "       [43256.746],\n",
       "       [43250.758],\n",
       "       [43247.48 ],\n",
       "       [43241.348],\n",
       "       [43253.758],\n",
       "       [43271.715],\n",
       "       [43264.344],\n",
       "       [43256.184],\n",
       "       [43241.727],\n",
       "       [43237.684],\n",
       "       [43251.98 ],\n",
       "       [43254.92 ],\n",
       "       [43258.355],\n",
       "       [43239.06 ],\n",
       "       [43224.74 ],\n",
       "       [43239.973],\n",
       "       [43248.79 ],\n",
       "       [43260.438],\n",
       "       [43233.234],\n",
       "       [43211.844],\n",
       "       [43226.754],\n",
       "       [43243.934],\n",
       "       [43279.84 ],\n",
       "       [43244.066],\n",
       "       [43205.918],\n",
       "       [43207.504],\n",
       "       [43191.094],\n",
       "       [43169.816],\n",
       "       [43143.297],\n",
       "       [43118.81 ],\n",
       "       [43101.344],\n",
       "       [43099.848],\n",
       "       [43103.92 ],\n",
       "       [43091.055],\n",
       "       [43069.05 ],\n",
       "       [43049.156],\n",
       "       [43042.074],\n",
       "       [43047.67 ],\n",
       "       [43037.562],\n",
       "       [43007.688],\n",
       "       [42977.05 ],\n",
       "       [42951.695],\n",
       "       [42938.77 ],\n",
       "       [42925.438],\n",
       "       [42889.926],\n",
       "       [42866.23 ],\n",
       "       [42857.67 ],\n",
       "       [42863.22 ],\n",
       "       [42877.785],\n",
       "       [42854.07 ],\n",
       "       [42823.1  ],\n",
       "       [42796.918],\n",
       "       [42792.074],\n",
       "       [42813.582],\n",
       "       [42808.23 ],\n",
       "       [42791.586],\n",
       "       [42772.04 ],\n",
       "       [42753.562],\n",
       "       [42767.918],\n",
       "       [42770.2  ],\n",
       "       [42750.824],\n",
       "       [42744.555],\n",
       "       [42713.664],\n",
       "       [42695.8  ],\n",
       "       [42693.953],\n",
       "       [42674.03 ],\n",
       "       [42658.523],\n",
       "       [42636.594],\n",
       "       [42629.5  ],\n",
       "       [42629.78 ],\n",
       "       [42616.42 ],\n",
       "       [42605.04 ],\n",
       "       [42595.633],\n",
       "       [42578.574],\n",
       "       [42563.09 ],\n",
       "       [42536.918],\n",
       "       [42519.816],\n",
       "       [42522.035],\n",
       "       [42524.48 ],\n",
       "       [42520.035],\n",
       "       [42497.805],\n",
       "       [42473.766],\n",
       "       [42465.766],\n",
       "       [42462.57 ],\n",
       "       [42467.098],\n",
       "       [42463.934],\n",
       "       [42453.914],\n",
       "       [42441.57 ],\n",
       "       [42442.652],\n",
       "       [42468.21 ],\n",
       "       [42476.86 ],\n",
       "       [42482.086],\n",
       "       [42488.98 ],\n",
       "       [42497.305],\n",
       "       [42521.285],\n",
       "       [42540.906],\n",
       "       [42528.652],\n",
       "       [42522.316],\n",
       "       [42524.914],\n",
       "       [42548.34 ],\n",
       "       [42586.457],\n",
       "       [42578.473],\n",
       "       [42567.797],\n",
       "       [42565.887],\n",
       "       [42577.3  ],\n",
       "       [42630.926],\n",
       "       [42643.945],\n",
       "       [42634.83 ],\n",
       "       [42629.348],\n",
       "       [42611.613],\n",
       "       [42637.645],\n",
       "       [42657.758],\n",
       "       [42657.78 ],\n",
       "       [42670.168],\n",
       "       [42669.426],\n",
       "       [42681.367],\n",
       "       [42698.445],\n",
       "       [42702.367],\n",
       "       [42704.24 ],\n",
       "       [42713.92 ],\n",
       "       [42720.88 ],\n",
       "       [42730.184],\n",
       "       [42738.188],\n",
       "       [42735.586],\n",
       "       [42733.027],\n",
       "       [42734.64 ],\n",
       "       [42737.16 ],\n",
       "       [42744.92 ],\n",
       "       [42753.645],\n",
       "       [42764.066],\n",
       "       [42768.695],\n",
       "       [42764.1  ],\n",
       "       [42763.734],\n",
       "       [42756.816],\n",
       "       [42740.758],\n",
       "       [42731.613],\n",
       "       [42722.88 ],\n",
       "       [42720.04 ],\n",
       "       [42729.457],\n",
       "       [42733.53 ],\n",
       "       [42725.773],\n",
       "       [42715.098],\n",
       "       [42708.707],\n",
       "       [42703.684],\n",
       "       [42701.066],\n",
       "       [42698.207],\n",
       "       [42694.31 ],\n",
       "       [42689.65 ],\n",
       "       [42686.19 ],\n",
       "       [42684.184],\n",
       "       [42682.668],\n",
       "       [42680.477],\n",
       "       [42677.414],\n",
       "       [42674.91 ],\n",
       "       [42674.02 ],\n",
       "       [42674.098],\n",
       "       [42673.812],\n",
       "       [42673.184],\n",
       "       [42672.598],\n",
       "       [42672.633],\n",
       "       [42673.21 ],\n",
       "       [42674.28 ],\n",
       "       [42675.66 ],\n",
       "       [42676.742],\n",
       "       [42678.387],\n",
       "       [42680.266],\n",
       "       [42681.934],\n",
       "       [42683.965],\n",
       "       [42686.023],\n",
       "       [42688.77 ],\n",
       "       [42692.133],\n",
       "       [42695.176],\n",
       "       [42698.062],\n",
       "       [42701.137],\n",
       "       [42704.62 ],\n",
       "       [42709.195],\n",
       "       [42713.883],\n",
       "       [42717.72 ],\n",
       "       [42721.184],\n",
       "       [42724.37 ],\n",
       "       [42728.617],\n",
       "       [42733.64 ],\n",
       "       [42737.918],\n",
       "       [42742.785],\n",
       "       [42747.71 ],\n",
       "       [42752.46 ],\n",
       "       [42757.316],\n",
       "       [42761.55 ],\n",
       "       [42766.25 ],\n",
       "       [42771.65 ],\n",
       "       [42777.06 ],\n",
       "       [42781.867],\n",
       "       [42786.36 ],\n",
       "       [42791.19 ],\n",
       "       [42796.797],\n",
       "       [42802.85 ],\n",
       "       [42808.15 ],\n",
       "       [42813.08 ],\n",
       "       [42818.145],\n",
       "       [42823.516],\n",
       "       [42829.47 ],\n",
       "       [42834.836],\n",
       "       [42839.594],\n",
       "       [42844.41 ],\n",
       "       [42850.035],\n",
       "       [42856.26 ],\n",
       "       [42862.016],\n",
       "       [42867.887],\n",
       "       [42873.023],\n",
       "       [42877.848],\n",
       "       [42883.42 ],\n",
       "       [42888.773],\n",
       "       [42894.957],\n",
       "       [42901.43 ],\n",
       "       [42906.812],\n",
       "       [42912.06 ],\n",
       "       [42917.04 ],\n",
       "       [42923.023],\n",
       "       [42929.8  ],\n",
       "       [42935.31 ],\n",
       "       [42940.19 ],\n",
       "       [42944.87 ],\n",
       "       [42950.562],\n",
       "       [42957.848],\n",
       "       [42963.957],\n",
       "       [42968.09 ],\n",
       "       [42971.668],\n",
       "       [42975.918],\n",
       "       [42982.215],\n",
       "       [42988.934],\n",
       "       [42993.445],\n",
       "       [42996.52 ],\n",
       "       [42999.73 ],\n",
       "       [43004.777],\n",
       "       [43011.3  ],\n",
       "       [43016.375],\n",
       "       [43019.34 ],\n",
       "       [43021.49 ],\n",
       "       [43025.09 ],\n",
       "       [43031.074],\n",
       "       [43036.24 ],\n",
       "       [43039.402],\n",
       "       [43040.594],\n",
       "       [43041.945],\n",
       "       [43046.703],\n",
       "       [43052.203],\n",
       "       [43056.176],\n",
       "       [43057.56 ],\n",
       "       [43057.402],\n",
       "       [43060.055],\n",
       "       [43064.473],\n",
       "       [43069.004],\n",
       "       [43070.89 ],\n",
       "       [43069.664],\n",
       "       [43070.61 ],\n",
       "       [43073.82 ],\n",
       "       [43078.453],\n",
       "       [43080.977],\n",
       "       [43079.168],\n",
       "       [43078.816],\n",
       "       [43080.484],\n",
       "       [43084.438]], dtype=float32)"
      ]
     },
     "execution_count": 68,
     "metadata": {},
     "output_type": "execute_result"
    }
   ],
   "source": [
    "pred"
   ]
  },
  {
   "cell_type": "code",
   "execution_count": 69,
   "metadata": {},
   "outputs": [
    {
     "data": {
      "text/plain": [
       "[<matplotlib.lines.Line2D at 0x21562f486d0>]"
      ]
     },
     "execution_count": 69,
     "metadata": {},
     "output_type": "execute_result"
    },
    {
     "data": {
      "image/png": "[encoded data removed]",
      "text/plain": [
       "<Figure size 640x480 with 1 Axes>"
      ]
     },
     "metadata": {},
     "output_type": "display_data"
    }
   ],
   "source": [
    "plt.plot(pred)"
   ]
  },
  {
   "cell_type": "code",
   "execution_count": 70,
   "metadata": {},
   "outputs": [],
   "source": [
    "import seaborn as sns"
   ]
  },
  {
   "cell_type": "code",
   "execution_count": 71,
   "metadata": {},
   "outputs": [],
   "source": [
    "# np.arange(1, 25, 25/600).shape\n",
    "a = a[:,0]"
   ]
  },
  {
   "cell_type": "code",
   "execution_count": 78,
   "metadata": {},
   "outputs": [
    {
     "data": {
      "text/plain": [
       "601"
      ]
     },
     "execution_count": 78,
     "metadata": {},
     "output_type": "execute_result"
    }
   ],
   "source": [
    "# need 601 values between range 1 and 25\n",
    "r = np.linspace(-20, 5, 601)\n",
    "len(r)"
   ]
  },
  {
   "cell_type": "code",
   "execution_count": 79,
   "metadata": {},
   "outputs": [
    {
     "data": {
      "text/plain": [
       "<Axes: >"
      ]
     },
     "execution_count": 79,
     "metadata": {},
     "output_type": "execute_result"
    },
    {
     "data": {
      "image/png": "[encoded data removed]",
      "text/plain": [
       "<Figure size 2000x1000 with 1 Axes>"
      ]
     },
     "metadata": {},
     "output_type": "display_data"
    }
   ],
   "source": [
    "plt.rcParams['figure.figsize'] = (20,10)\n",
    "sns.lineplot(y = a, x = r)\n",
    "# plt.plot(np.arange(0,240),a[:240], color='blue')\n",
    "# plt.plot(np.arange(240,288),a[240:], color='red')\n",
    "\n",
    "# plt.plot(a[240:], label='predictions',color='red')"
   ]
  },
  {
   "cell_type": "code",
   "execution_count": null,
   "metadata": {},
   "outputs": [],
   "source": []
  }
 ],
 "metadata": {
  "kernelspec": {
   "display_name": "Python 3",
   "language": "python",
   "name": "python3"
  },
  "language_info": {
   "codemirror_mode": {
    "name": "ipython",
    "version": 3
   },
   "file_extension": ".py",
   "mimetype": "text/x-python",
   "name": "python",
   "nbconvert_exporter": "python",
   "pygments_lexer": "ipython3",
   "version": "3.9.18"
  }
 },
 "nbformat": 4,
 "nbformat_minor": 2
}
