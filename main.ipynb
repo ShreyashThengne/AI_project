{
 "cells": [
  {
   "cell_type": "code",
   "execution_count": 350,
   "metadata": {},
   "outputs": [],
   "source": [
    "from datetime import datetime, timedelta\n",
    "import calendar\n",
    "import requests\n",
    "from textblob import TextBlob\n",
    "\n",
    "from tensorflow.keras.models import load_model\n",
    "from sklearn.preprocessing import MinMaxScaler\n",
    "import pandas as pd\n",
    "import numpy as np"
   ]
  },
  {
   "cell_type": "code",
   "execution_count": 351,
   "metadata": {},
   "outputs": [],
   "source": [
    "yesterday = datetime.now() - timedelta(days=1)\n",
    "date_for_news_u = yesterday.strftime(\"%Y-%m-%d\")\n",
    "date_for_news_l = (yesterday - timedelta(days=9)).strftime(\"%Y-%m-%d\")\n",
    "# print(date_for_news_u, date_for_news_l)\n",
    "\n",
    "\n",
    "date_for_coin = datetime.utcnow()\n",
    "date_c_u = date_for_coin.date()\n",
    "date_c_l = date_for_coin.date()\n",
    "\n",
    "date_for_coin_u = date_c_u.strftime(\"%d-%m-%Y %H:%M:%S\")\n",
    "date_for_coin_l = date_c_l.strftime(\"%d-%m-%Y %H:%M:%S\")\n",
    "\n",
    "date_for_coin_u = datetime.strptime(date_for_coin_u, \"%d-%m-%Y %H:%M:%S\")\n",
    "date_for_coin_l = datetime.strptime(date_for_coin_l, \"%d-%m-%Y %H:%M:%S\") - timedelta(days=10)\n",
    "\n",
    "# print(date_for_coin_u, date_for_coin_l)\n",
    "date_for_coin_u = calendar.timegm(date_for_coin_u.utctimetuple())-1\n",
    "date_for_coin_l = calendar.timegm(date_for_coin_l.utctimetuple())\n",
    "# date_for_coin_u, date_for_coin_l"
   ]
  },
  {
   "cell_type": "markdown",
   "metadata": {},
   "source": [
    "news data"
   ]
  },
  {
   "cell_type": "code",
   "execution_count": 352,
   "metadata": {},
   "outputs": [
    {
     "data": {
      "text/plain": [
       "('2023-10-08', '2023-10-17', 1696723200, 1697587199)"
      ]
     },
     "execution_count": 352,
     "metadata": {},
     "output_type": "execute_result"
    }
   ],
   "source": [
    "date_for_news_l, date_for_news_u, date_for_coin_l, date_for_coin_u"
   ]
  },
  {
   "cell_type": "code",
   "execution_count": 354,
   "metadata": {},
   "outputs": [],
   "source": [
    "url = ('https://newsapi.org/v2/everything?'\n",
    "       'q=bitcoin+investment&'\n",
    "       f'from={date_for_news_l}&'\n",
    "       f'to={date_for_news_u}&'\n",
    "       'sortBy=popularity&'\n",
    "       'apiKey=abb843aff2e648ccb76d00bd7d7ccb67')\n",
    "\n",
    "response = requests.get(url)\n",
    "\n",
    "news_data = response.json()"
   ]
  },
  {
   "cell_type": "code",
   "execution_count": 355,
   "metadata": {},
   "outputs": [
    {
     "data": {
      "text/plain": [
       "3"
      ]
     },
     "execution_count": 355,
     "metadata": {},
     "output_type": "execute_result"
    }
   ],
   "source": [
    "len(news_data)"
   ]
  },
  {
   "cell_type": "code",
   "execution_count": 356,
   "metadata": {},
   "outputs": [],
   "source": [
    "data = news_data['articles']\n",
    "texts = []\n",
    "dates = []\n",
    "\n",
    "for article in data:\n",
    "    overall_text = article['title'] + article['description'] + article['content']\n",
    "    date = article['publishedAt'][:10]\n",
    "    date = datetime.strptime(date, \"%Y-%m-%d\")\n",
    "\n",
    "    texts.append(overall_text)\n",
    "    dates.append(date)\n",
    "\n",
    "df_news = pd.DataFrame({\"text\": texts, \"date\": dates})"
   ]
  },
  {
   "cell_type": "code",
   "execution_count": 357,
   "metadata": {},
   "outputs": [],
   "source": [
    "df_news = df_news.sort_values(by=['date']).reset_index(drop=True)"
   ]
  },
  {
   "cell_type": "code",
   "execution_count": 358,
   "metadata": {},
   "outputs": [],
   "source": [
    "# df_news[df_news[\"text\"] == \"[Removed][Removed][Removed]\"]\n",
    "df_news = df_news[~(df_news[\"text\"] == \"[Removed][Removed][Removed]\")]"
   ]
  },
  {
   "cell_type": "code",
   "execution_count": 359,
   "metadata": {},
   "outputs": [],
   "source": [
    "df_news['sentiment'] = df_news['text'].apply(lambda x: TextBlob(x).sentiment.polarity)\n",
    "# df_news.head()"
   ]
  },
  {
   "cell_type": "code",
   "execution_count": 360,
   "metadata": {},
   "outputs": [],
   "source": [
    "df_news['sentiment'] = df_news['sentiment'].apply(lambda x: 1 if x > 0 else (-1 if x < 0 else 0))\n",
    "# df_news"
   ]
  },
  {
   "cell_type": "code",
   "execution_count": 361,
   "metadata": {},
   "outputs": [],
   "source": [
    "df_news_new = pd.DataFrame(df_news.groupby('date')['sentiment'].mean()).reset_index()"
   ]
  },
  {
   "cell_type": "code",
   "execution_count": 362,
   "metadata": {},
   "outputs": [],
   "source": [
    "# df_news_new"
   ]
  },
  {
   "cell_type": "code",
   "execution_count": 363,
   "metadata": {},
   "outputs": [
    {
     "data": {
      "text/plain": [
       "(1696723200, 1697587199)"
      ]
     },
     "execution_count": 363,
     "metadata": {},
     "output_type": "execute_result"
    }
   ],
   "source": [
    "date_for_coin_l, date_for_coin_u"
   ]
  },
  {
   "cell_type": "code",
   "execution_count": 364,
   "metadata": {},
   "outputs": [],
   "source": [
    "url = f'https://api.coingecko.com/api/v3/coins/bitcoin/market_chart/range?vs_currency=usd&from={date_for_coin_l}&to={date_for_coin_u}'\n",
    "\n",
    "response = requests.get(url)\n",
    "\n",
    "coin_data = response.json()"
   ]
  },
  {
   "cell_type": "code",
   "execution_count": 365,
   "metadata": {},
   "outputs": [
    {
     "data": {
      "text/plain": [
       "[1697169805433, 26780.62481547189]"
      ]
     },
     "execution_count": 365,
     "metadata": {},
     "output_type": "execute_result"
    }
   ],
   "source": [
    "coin_data['prices'].pop(125)"
   ]
  },
  {
   "cell_type": "code",
   "execution_count": 366,
   "metadata": {},
   "outputs": [],
   "source": [
    "data_crypto = coin_data['prices']\n",
    "# len(data_crypto)"
   ]
  },
  {
   "cell_type": "code",
   "execution_count": 367,
   "metadata": {},
   "outputs": [],
   "source": [
    "data_crypto = pd.DataFrame(data_crypto, columns=['date', 'price'])\n",
    "# data_crypto.drop('date', axis=1, inplace=True)\n",
    "data_crypto['date'] = data_crypto['date'].apply(lambda x: datetime.utcfromtimestamp(x / 1000)).values\n",
    "# data_crypto"
   ]
  },
  {
   "cell_type": "code",
   "execution_count": 368,
   "metadata": {},
   "outputs": [],
   "source": [
    "data_crypto['dummy_date'] = data_crypto['date'].apply(lambda x: x.date())\n",
    "# data_crypto"
   ]
  },
  {
   "cell_type": "code",
   "execution_count": 369,
   "metadata": {},
   "outputs": [],
   "source": [
    "df_news_new['dummy_date'] = df_news_new['date'].apply(lambda x: x.date())"
   ]
  },
  {
   "cell_type": "code",
   "execution_count": 370,
   "metadata": {},
   "outputs": [],
   "source": [
    "# data_crypto['dummy_date'].values"
   ]
  },
  {
   "cell_type": "code",
   "execution_count": 371,
   "metadata": {},
   "outputs": [],
   "source": [
    "# df_news_new"
   ]
  },
  {
   "cell_type": "code",
   "execution_count": 372,
   "metadata": {},
   "outputs": [],
   "source": [
    "data_crypto_with_sent = data_crypto.join(other=df_news_new.set_index('dummy_date'), on='dummy_date', how='left', rsuffix='_news')\n"
   ]
  },
  {
   "cell_type": "code",
   "execution_count": 373,
   "metadata": {},
   "outputs": [],
   "source": [
    "d = data_crypto_with_sent[['price', 'sentiment']]"
   ]
  },
  {
   "cell_type": "code",
   "execution_count": 374,
   "metadata": {},
   "outputs": [],
   "source": [
    "# d"
   ]
  },
  {
   "cell_type": "code",
   "execution_count": 376,
   "metadata": {},
   "outputs": [
    {
     "name": "stdout",
     "output_type": "stream",
     "text": [
      "Model: \"sequential_1\"\n",
      "_________________________________________________________________\n",
      " Layer (type)                Output Shape              Param #   \n",
      "=================================================================\n",
      " lstm_3 (LSTM)               (None, 240, 120)          59040     \n",
      "                                                                 \n",
      " lstm_4 (LSTM)               (None, 240, 100)          88400     \n",
      "                                                                 \n",
      " lstm_5 (LSTM)               (None, 90)                68760     \n",
      "                                                                 \n",
      " dense_1 (Dense)             (None, 1)                 91        \n",
      "                                                                 \n",
      "=================================================================\n",
      "Total params: 216291 (844.89 KB)\n",
      "Trainable params: 216291 (844.89 KB)\n",
      "Non-trainable params: 0 (0.00 Byte)\n",
      "_________________________________________________________________\n"
     ]
    }
   ],
   "source": [
    "model = load_model('model.h5')\n",
    "model.summary()"
   ]
  },
  {
   "cell_type": "code",
   "execution_count": null,
   "metadata": {},
   "outputs": [],
   "source": []
  },
  {
   "cell_type": "code",
   "execution_count": 377,
   "metadata": {},
   "outputs": [],
   "source": [
    "a = d.values\n",
    "mm = MinMaxScaler()\n",
    "feat = mm.fit_transform(a[:,0].reshape(-1,1))\n",
    "l = []\n",
    "for i in range(len(feat)):\n",
    "    l.append([feat[i][0], a[i,1]])\n",
    "a = l"
   ]
  },
  {
   "cell_type": "code",
   "execution_count": 378,
   "metadata": {},
   "outputs": [
    {
     "name": "stdout",
     "output_type": "stream",
     "text": [
      "1/1 [==============================] - 42s 42s/step\n",
      "1/1 [==============================] - 0s 182ms/step\n",
      "1/1 [==============================] - 0s 174ms/step\n",
      "1/1 [==============================] - 0s 174ms/step\n",
      "1/1 [==============================] - 0s 173ms/step\n",
      "1/1 [==============================] - 0s 169ms/step\n",
      "1/1 [==============================] - 0s 154ms/step\n",
      "1/1 [==============================] - 0s 215ms/step\n",
      "1/1 [==============================] - 1s 611ms/step\n",
      "1/1 [==============================] - 0s 442ms/step\n",
      "1/1 [==============================] - 0s 352ms/step\n",
      "1/1 [==============================] - 0s 277ms/step\n",
      "1/1 [==============================] - 0s 295ms/step\n",
      "1/1 [==============================] - 0s 338ms/step\n",
      "1/1 [==============================] - 0s 314ms/step\n",
      "1/1 [==============================] - 0s 369ms/step\n",
      "1/1 [==============================] - 0s 388ms/step\n",
      "1/1 [==============================] - 0s 293ms/step\n",
      "1/1 [==============================] - 0s 300ms/step\n",
      "1/1 [==============================] - 1s 642ms/step\n",
      "1/1 [==============================] - 0s 461ms/step\n",
      "1/1 [==============================] - 3s 3s/step\n",
      "1/1 [==============================] - 1s 602ms/step\n",
      "1/1 [==============================] - 1s 512ms/step\n",
      "1/1 [==============================] - 1s 514ms/step\n",
      "1/1 [==============================] - 0s 455ms/step\n",
      "1/1 [==============================] - 0s 397ms/step\n",
      "1/1 [==============================] - 0s 289ms/step\n",
      "1/1 [==============================] - 0s 224ms/step\n",
      "1/1 [==============================] - 0s 251ms/step\n",
      "1/1 [==============================] - 0s 229ms/step\n",
      "1/1 [==============================] - 0s 213ms/step\n",
      "1/1 [==============================] - 0s 201ms/step\n",
      "1/1 [==============================] - 0s 359ms/step\n",
      "1/1 [==============================] - 0s 261ms/step\n",
      "1/1 [==============================] - 0s 232ms/step\n",
      "1/1 [==============================] - 0s 230ms/step\n",
      "1/1 [==============================] - 0s 230ms/step\n",
      "1/1 [==============================] - 0s 263ms/step\n",
      "1/1 [==============================] - 0s 158ms/step\n",
      "1/1 [==============================] - 0s 182ms/step\n",
      "1/1 [==============================] - 0s 286ms/step\n",
      "1/1 [==============================] - 0s 294ms/step\n",
      "1/1 [==============================] - 0s 299ms/step\n",
      "1/1 [==============================] - 0s 299ms/step\n",
      "1/1 [==============================] - 0s 290ms/step\n",
      "1/1 [==============================] - 0s 252ms/step\n",
      "1/1 [==============================] - 0s 228ms/step\n"
     ]
    }
   ],
   "source": [
    "# model.predict(a.reshape(1,a.shape[0], a.shape[1]))\n",
    "pred = []\n",
    "a = np.array(a)\n",
    "for i in range(48):\n",
    "    x = model.predict(a[i:].reshape(1,a[i:].shape[0], a[i:].shape[1]))\n",
    "    # print(x[0][0])\n",
    "    a = np.append(a, [[x[0][0], 0]], axis=0)\n",
    "    pred.append(x[0][0])\n",
    "    # prev.append(a.pop(0))\n",
    "# a\n"
   ]
  },
  {
   "cell_type": "code",
   "execution_count": 379,
   "metadata": {},
   "outputs": [],
   "source": [
    "import matplotlib.pyplot as plt\n",
    "# plt.plot(a[:240])\n",
    "a = mm.inverse_transform(a[:,0].reshape(-1,1))\n",
    "pred = mm.inverse_transform(np.array(pred).reshape(-1,1))"
   ]
  },
  {
   "cell_type": "code",
   "execution_count": 380,
   "metadata": {},
   "outputs": [
    {
     "data": {
      "text/plain": [
       "[<matplotlib.lines.Line2D at 0x1efe7dfbe50>]"
      ]
     },
     "execution_count": 380,
     "metadata": {},
     "output_type": "execute_result"
    },
    {
     "data": {
      "image/png": "[encoded data removed]",
      "text/plain": [
       "<Figure size 640x480 with 1 Axes>"
      ]
     },
     "metadata": {},
     "output_type": "display_data"
    }
   ],
   "source": [
    "plt.plot(pred)"
   ]
  },
  {
   "cell_type": "code",
   "execution_count": 381,
   "metadata": {},
   "outputs": [
    {
     "data": {
      "text/plain": [
       "[<matplotlib.lines.Line2D at 0x1efeb697d50>]"
      ]
     },
     "execution_count": 381,
     "metadata": {},
     "output_type": "execute_result"
    },
    {
     "data": {
      "image/png": "[encoded data removed]",
      "text/plain": [
       "<Figure size 640x480 with 1 Axes>"
      ]
     },
     "metadata": {},
     "output_type": "display_data"
    }
   ],
   "source": [
    "plt.plot(a, label='given',color='blue')\n",
    "# plt.plot(np.arange(0,240),a[:240], color='blue')\n",
    "# plt.plot(np.arange(240,288),a[240:], color='red')\n",
    "\n",
    "# plt.plot(a[240:], label='predictions',color='red')"
   ]
  },
  {
   "cell_type": "code",
   "execution_count": null,
   "metadata": {},
   "outputs": [],
   "source": []
  }
 ],
 "metadata": {
  "kernelspec": {
   "display_name": "Python 3",
   "language": "python",
   "name": "python3"
  },
  "language_info": {
   "codemirror_mode": {
    "name": "ipython",
    "version": 3
   },
   "file_extension": ".py",
   "mimetype": "text/x-python",
   "name": "python",
   "nbconvert_exporter": "python",
   "pygments_lexer": "ipython3",
   "version": "3.11.5"
  }
 },
 "nbformat": 4,
 "nbformat_minor": 2
}
