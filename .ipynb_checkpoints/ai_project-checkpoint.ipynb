{
  "nbformat": 4,
  "nbformat_minor": 0,
  "metadata": {
    "colab": {
      "provenance": [],
      "gpuType": "T4"
    },
    "kernelspec": {
      "name": "python3",
      "display_name": "Python 3"
    },
    "language_info": {
      "name": "python"
    },
    "accelerator": "GPU"
  },
  "cells": [
    {
      "cell_type": "code",
      "execution_count": null,
      "metadata": {
        "id": "-b4KtEylvOQy"
      },
      "outputs": [],
      "source": [
        "import pandas as pd\n",
        "import numpy as np\n",
        "import math\n",
        "from sklearn.preprocessing import MinMaxScaler\n",
        "from sklearn.metrics import mean_squared_error\n",
        "\n",
        "import tensorflow as tf\n",
        "from tensorflow.keras.layers import LSTM, Dense\n",
        "from tensorflow.keras.models import Sequential"
      ]
    },
    {
      "cell_type": "code",
      "source": [
        "data = pd.read_csv('final_dataset.csv')\n",
        "data.head()"
      ],
      "metadata": {
        "colab": {
          "base_uri": "https://localhost:8080/",
          "height": 206
        },
        "id": "5-pHH0-3vYW1",
        "outputId": "994ed840-3e81-4c47-b7d3-8a87198d8595"
      },
      "execution_count": null,
      "outputs": [
        {
          "output_type": "execute_result",
          "data": {
            "text/plain": [
              "   Unnamed: 0                       date         price  sentiment\n",
              "0           0  2021-11-10T00:00:00+00:00  66996.828029        0.0\n",
              "1           1  2021-11-10T01:00:00+00:00  67020.628419        0.0\n",
              "2           2  2021-11-10T02:00:00+00:00  66817.702353        0.0\n",
              "3           3  2021-11-10T03:00:00+00:00  66484.709002        0.0\n",
              "4           4  2021-11-10T04:00:00+00:00  66637.905036        0.0"
            ],
            "text/html": [
              "\n",
              "  <div id=\"df-54dedd96-4d2b-475e-b111-a63ecaafcd15\" class=\"colab-df-container\">\n",
              "    <div>\n",
              "<style scoped>\n",
              "    .dataframe tbody tr th:only-of-type {\n",
              "        vertical-align: middle;\n",
              "    }\n",
              "\n",
              "    .dataframe tbody tr th {\n",
              "        vertical-align: top;\n",
              "    }\n",
              "\n",
              "    .dataframe thead th {\n",
              "        text-align: right;\n",
              "    }\n",
              "</style>\n",
              "<table border=\"1\" class=\"dataframe\">\n",
              "  <thead>\n",
              "    <tr style=\"text-align: right;\">\n",
              "      <th></th>\n",
              "      <th>Unnamed: 0</th>\n",
              "      <th>date</th>\n",
              "      <th>price</th>\n",
              "      <th>sentiment</th>\n",
              "    </tr>\n",
              "  </thead>\n",
              "  <tbody>\n",
              "    <tr>\n",
              "      <th>0</th>\n",
              "      <td>0</td>\n",
              "      <td>2021-11-10T00:00:00+00:00</td>\n",
              "      <td>66996.828029</td>\n",
              "      <td>0.0</td>\n",
              "    </tr>\n",
              "    <tr>\n",
              "      <th>1</th>\n",
              "      <td>1</td>\n",
              "      <td>2021-11-10T01:00:00+00:00</td>\n",
              "      <td>67020.628419</td>\n",
              "      <td>0.0</td>\n",
              "    </tr>\n",
              "    <tr>\n",
              "      <th>2</th>\n",
              "      <td>2</td>\n",
              "      <td>2021-11-10T02:00:00+00:00</td>\n",
              "      <td>66817.702353</td>\n",
              "      <td>0.0</td>\n",
              "    </tr>\n",
              "    <tr>\n",
              "      <th>3</th>\n",
              "      <td>3</td>\n",
              "      <td>2021-11-10T03:00:00+00:00</td>\n",
              "      <td>66484.709002</td>\n",
              "      <td>0.0</td>\n",
              "    </tr>\n",
              "    <tr>\n",
              "      <th>4</th>\n",
              "      <td>4</td>\n",
              "      <td>2021-11-10T04:00:00+00:00</td>\n",
              "      <td>66637.905036</td>\n",
              "      <td>0.0</td>\n",
              "    </tr>\n",
              "  </tbody>\n",
              "</table>\n",
              "</div>\n",
              "    <div class=\"colab-df-buttons\">\n",
              "\n",
              "  <div class=\"colab-df-container\">\n",
              "    <button class=\"colab-df-convert\" onclick=\"convertToInteractive('df-54dedd96-4d2b-475e-b111-a63ecaafcd15')\"\n",
              "            title=\"Convert this dataframe to an interactive table.\"\n",
              "            style=\"display:none;\">\n",
              "\n",
              "  <svg xmlns=\"http://www.w3.org/2000/svg\" height=\"24px\" viewBox=\"0 -960 960 960\">\n",
              "    <path d=\"M120-120v-720h720v720H120Zm60-500h600v-160H180v160Zm220 220h160v-160H400v160Zm0 220h160v-160H400v160ZM180-400h160v-160H180v160Zm440 0h160v-160H620v160ZM180-180h160v-160H180v160Zm440 0h160v-160H620v160Z\"/>\n",
              "  </svg>\n",
              "    </button>\n",
              "\n",
              "  <style>\n",
              "    .colab-df-container {\n",
              "      display:flex;\n",
              "      gap: 12px;\n",
              "    }\n",
              "\n",
              "    .colab-df-convert {\n",
              "      background-color: #E8F0FE;\n",
              "      border: none;\n",
              "      border-radius: 50%;\n",
              "      cursor: pointer;\n",
              "      display: none;\n",
              "      fill: #1967D2;\n",
              "      height: 32px;\n",
              "      padding: 0 0 0 0;\n",
              "      width: 32px;\n",
              "    }\n",
              "\n",
              "    .colab-df-convert:hover {\n",
              "      background-color: #E2EBFA;\n",
              "      box-shadow: 0px 1px 2px rgba(60, 64, 67, 0.3), 0px 1px 3px 1px rgba(60, 64, 67, 0.15);\n",
              "      fill: #174EA6;\n",
              "    }\n",
              "\n",
              "    .colab-df-buttons div {\n",
              "      margin-bottom: 4px;\n",
              "    }\n",
              "\n",
              "    [theme=dark] .colab-df-convert {\n",
              "      background-color: #3B4455;\n",
              "      fill: #D2E3FC;\n",
              "    }\n",
              "\n",
              "    [theme=dark] .colab-df-convert:hover {\n",
              "      background-color: #434B5C;\n",
              "      box-shadow: 0px 1px 3px 1px rgba(0, 0, 0, 0.15);\n",
              "      filter: drop-shadow(0px 1px 2px rgba(0, 0, 0, 0.3));\n",
              "      fill: #FFFFFF;\n",
              "    }\n",
              "  </style>\n",
              "\n",
              "    <script>\n",
              "      const buttonEl =\n",
              "        document.querySelector('#df-54dedd96-4d2b-475e-b111-a63ecaafcd15 button.colab-df-convert');\n",
              "      buttonEl.style.display =\n",
              "        google.colab.kernel.accessAllowed ? 'block' : 'none';\n",
              "\n",
              "      async function convertToInteractive(key) {\n",
              "        const element = document.querySelector('#df-54dedd96-4d2b-475e-b111-a63ecaafcd15');\n",
              "        const dataTable =\n",
              "          await google.colab.kernel.invokeFunction('convertToInteractive',\n",
              "                                                    [key], {});\n",
              "        if (!dataTable) return;\n",
              "\n",
              "        const docLinkHtml = 'Like what you see? Visit the ' +\n",
              "          '<a target=\"_blank\" href=https://colab.research.google.com/notebooks/data_table.ipynb>data table notebook</a>'\n",
              "          + ' to learn more about interactive tables.';\n",
              "        element.innerHTML = '';\n",
              "        dataTable['output_type'] = 'display_data';\n",
              "        await google.colab.output.renderOutput(dataTable, element);\n",
              "        const docLink = document.createElement('div');\n",
              "        docLink.innerHTML = docLinkHtml;\n",
              "        element.appendChild(docLink);\n",
              "      }\n",
              "    </script>\n",
              "  </div>\n",
              "\n",
              "\n",
              "<div id=\"df-49b7dae1-0916-4243-8bbf-fe4b14b039cb\">\n",
              "  <button class=\"colab-df-quickchart\" onclick=\"quickchart('df-49b7dae1-0916-4243-8bbf-fe4b14b039cb')\"\n",
              "            title=\"Suggest charts.\"\n",
              "            style=\"display:none;\">\n",
              "\n",
              "<svg xmlns=\"http://www.w3.org/2000/svg\" height=\"24px\"viewBox=\"0 0 24 24\"\n",
              "     width=\"24px\">\n",
              "    <g>\n",
              "        <path d=\"M19 3H5c-1.1 0-2 .9-2 2v14c0 1.1.9 2 2 2h14c1.1 0 2-.9 2-2V5c0-1.1-.9-2-2-2zM9 17H7v-7h2v7zm4 0h-2V7h2v10zm4 0h-2v-4h2v4z\"/>\n",
              "    </g>\n",
              "</svg>\n",
              "  </button>\n",
              "\n",
              "<style>\n",
              "  .colab-df-quickchart {\n",
              "      --bg-color: #E8F0FE;\n",
              "      --fill-color: #1967D2;\n",
              "      --hover-bg-color: #E2EBFA;\n",
              "      --hover-fill-color: #174EA6;\n",
              "      --disabled-fill-color: #AAA;\n",
              "      --disabled-bg-color: #DDD;\n",
              "  }\n",
              "\n",
              "  [theme=dark] .colab-df-quickchart {\n",
              "      --bg-color: #3B4455;\n",
              "      --fill-color: #D2E3FC;\n",
              "      --hover-bg-color: #434B5C;\n",
              "      --hover-fill-color: #FFFFFF;\n",
              "      --disabled-bg-color: #3B4455;\n",
              "      --disabled-fill-color: #666;\n",
              "  }\n",
              "\n",
              "  .colab-df-quickchart {\n",
              "    background-color: var(--bg-color);\n",
              "    border: none;\n",
              "    border-radius: 50%;\n",
              "    cursor: pointer;\n",
              "    display: none;\n",
              "    fill: var(--fill-color);\n",
              "    height: 32px;\n",
              "    padding: 0;\n",
              "    width: 32px;\n",
              "  }\n",
              "\n",
              "  .colab-df-quickchart:hover {\n",
              "    background-color: var(--hover-bg-color);\n",
              "    box-shadow: 0 1px 2px rgba(60, 64, 67, 0.3), 0 1px 3px 1px rgba(60, 64, 67, 0.15);\n",
              "    fill: var(--button-hover-fill-color);\n",
              "  }\n",
              "\n",
              "  .colab-df-quickchart-complete:disabled,\n",
              "  .colab-df-quickchart-complete:disabled:hover {\n",
              "    background-color: var(--disabled-bg-color);\n",
              "    fill: var(--disabled-fill-color);\n",
              "    box-shadow: none;\n",
              "  }\n",
              "\n",
              "  .colab-df-spinner {\n",
              "    border: 2px solid var(--fill-color);\n",
              "    border-color: transparent;\n",
              "    border-bottom-color: var(--fill-color);\n",
              "    animation:\n",
              "      spin 1s steps(1) infinite;\n",
              "  }\n",
              "\n",
              "  @keyframes spin {\n",
              "    0% {\n",
              "      border-color: transparent;\n",
              "      border-bottom-color: var(--fill-color);\n",
              "      border-left-color: var(--fill-color);\n",
              "    }\n",
              "    20% {\n",
              "      border-color: transparent;\n",
              "      border-left-color: var(--fill-color);\n",
              "      border-top-color: var(--fill-color);\n",
              "    }\n",
              "    30% {\n",
              "      border-color: transparent;\n",
              "      border-left-color: var(--fill-color);\n",
              "      border-top-color: var(--fill-color);\n",
              "      border-right-color: var(--fill-color);\n",
              "    }\n",
              "    40% {\n",
              "      border-color: transparent;\n",
              "      border-right-color: var(--fill-color);\n",
              "      border-top-color: var(--fill-color);\n",
              "    }\n",
              "    60% {\n",
              "      border-color: transparent;\n",
              "      border-right-color: var(--fill-color);\n",
              "    }\n",
              "    80% {\n",
              "      border-color: transparent;\n",
              "      border-right-color: var(--fill-color);\n",
              "      border-bottom-color: var(--fill-color);\n",
              "    }\n",
              "    90% {\n",
              "      border-color: transparent;\n",
              "      border-bottom-color: var(--fill-color);\n",
              "    }\n",
              "  }\n",
              "</style>\n",
              "\n",
              "  <script>\n",
              "    async function quickchart(key) {\n",
              "      const quickchartButtonEl =\n",
              "        document.querySelector('#' + key + ' button');\n",
              "      quickchartButtonEl.disabled = true;  // To prevent multiple clicks.\n",
              "      quickchartButtonEl.classList.add('colab-df-spinner');\n",
              "      try {\n",
              "        const charts = await google.colab.kernel.invokeFunction(\n",
              "            'suggestCharts', [key], {});\n",
              "      } catch (error) {\n",
              "        console.error('Error during call to suggestCharts:', error);\n",
              "      }\n",
              "      quickchartButtonEl.classList.remove('colab-df-spinner');\n",
              "      quickchartButtonEl.classList.add('colab-df-quickchart-complete');\n",
              "    }\n",
              "    (() => {\n",
              "      let quickchartButtonEl =\n",
              "        document.querySelector('#df-49b7dae1-0916-4243-8bbf-fe4b14b039cb button');\n",
              "      quickchartButtonEl.style.display =\n",
              "        google.colab.kernel.accessAllowed ? 'block' : 'none';\n",
              "    })();\n",
              "  </script>\n",
              "</div>\n",
              "    </div>\n",
              "  </div>\n"
            ]
          },
          "metadata": {},
          "execution_count": 3
        }
      ]
    },
    {
      "cell_type": "code",
      "source": [
        "data = data[~(data['date'] == 0)]"
      ],
      "metadata": {
        "id": "0Fi23-wTrTa4"
      },
      "execution_count": null,
      "outputs": []
    },
    {
      "cell_type": "code",
      "source": [
        "data = data[4587:].reset_index(drop=True)"
      ],
      "metadata": {
        "id": "5VdQDwtGsiWw"
      },
      "execution_count": null,
      "outputs": []
    },
    {
      "cell_type": "code",
      "source": [
        "if 'Unnamed: 0' in data.columns:\n",
        "    data.drop(['Unnamed: 0'], axis=1, inplace=True)\n",
        "data.columns"
      ],
      "metadata": {
        "colab": {
          "base_uri": "https://localhost:8080/"
        },
        "id": "_zx_MAD3vZ65",
        "outputId": "3743c342-f18d-43ba-845f-cb2c483b5cee"
      },
      "execution_count": null,
      "outputs": [
        {
          "output_type": "execute_result",
          "data": {
            "text/plain": [
              "Index(['date', 'price', 'sentiment'], dtype='object')"
            ]
          },
          "metadata": {},
          "execution_count": 60
        }
      ]
    },
    {
      "cell_type": "code",
      "source": [
        "mm_obj = MinMaxScaler()\n",
        "arr = mm_obj.fit_transform(data['price'].values.reshape(-1, 1))\n",
        "arr.shape"
      ],
      "metadata": {
        "colab": {
          "base_uri": "https://localhost:8080/"
        },
        "id": "dzS7o9xYvbhl",
        "outputId": "8b546f2d-3b7e-4417-f038-caa98e5f3c68"
      },
      "execution_count": null,
      "outputs": [
        {
          "output_type": "execute_result",
          "data": {
            "text/plain": [
              "(7678, 1)"
            ]
          },
          "metadata": {},
          "execution_count": 61
        }
      ]
    },
    {
      "cell_type": "code",
      "source": [
        "sentiments = data['sentiment']\n",
        "# sentiments.values\n",
        "a = arr.copy()\n",
        "l = []\n",
        "for i in range(len(a)):\n",
        "    l.append([a[i][0], sentiments.values[i]])"
      ],
      "metadata": {
        "id": "oL2oc3DnvfpN"
      },
      "execution_count": null,
      "outputs": []
    },
    {
      "cell_type": "code",
      "source": [
        "new_arr = np.array(l)\n",
        "# new_arr[0:2, 0]"
      ],
      "metadata": {
        "colab": {
          "base_uri": "https://localhost:8080/"
        },
        "id": "AyLoBhaavoAv",
        "outputId": "a690534b-0c91-41a1-f987-661783250107"
      },
      "execution_count": null,
      "outputs": [
        {
          "output_type": "execute_result",
          "data": {
            "text/plain": [
              "array([0.87887724, 0.87429511])"
            ]
          },
          "metadata": {},
          "execution_count": 63
        }
      ]
    },
    {
      "cell_type": "code",
      "source": [
        "# will be considering for 10 days when predicting, so 10x24hrs\n",
        "def format_arr(arr):\n",
        "    X = []\n",
        "    y = []\n",
        "\n",
        "    for i in range(len(arr) - 240):\n",
        "        X.append(arr[i:i+240])\n",
        "        y.append(arr[i+240, 0])\n",
        "    X = np.array(X)\n",
        "    y = np.array(y)\n",
        "\n",
        "    return X, y\n",
        "\n",
        "format_arr(new_arr)[0].shape, format_arr(new_arr)[1].shape"
      ],
      "metadata": {
        "colab": {
          "base_uri": "https://localhost:8080/"
        },
        "id": "kb4gXVRZvqS-",
        "outputId": "a71a8d40-47bb-4871-9ad2-bd1e9170ef5e"
      },
      "execution_count": null,
      "outputs": [
        {
          "output_type": "execute_result",
          "data": {
            "text/plain": [
              "((7438, 240, 2), (7438,))"
            ]
          },
          "metadata": {},
          "execution_count": 64
        }
      ]
    },
    {
      "cell_type": "code",
      "source": [
        "X_train, y_train = format_arr(new_arr[ : int(len(new_arr) * 0.9)])\n",
        "X_test, y_test = format_arr(new_arr[ : len(new_arr) - int(len(new_arr) * 0.9)])\n",
        "\n",
        "# X_train.shape, y_train.shape, X_test.shape, y_test.shape\n",
        "\n",
        "X_train, y_train = format_arr(new_arr)"
      ],
      "metadata": {
        "id": "HGoiz4HjvsDN"
      },
      "execution_count": null,
      "outputs": []
    },
    {
      "cell_type": "code",
      "source": [
        "X_train.shape, y_train.shape"
      ],
      "metadata": {
        "colab": {
          "base_uri": "https://localhost:8080/"
        },
        "id": "snD8qbbY_LFu",
        "outputId": "21b8c691-9542-4a35-aeae-59e2506d4852"
      },
      "execution_count": null,
      "outputs": [
        {
          "output_type": "execute_result",
          "data": {
            "text/plain": [
              "((7438, 240, 2), (7438,))"
            ]
          },
          "metadata": {},
          "execution_count": 66
        }
      ]
    },
    {
      "cell_type": "code",
      "source": [
        "myModel = Sequential([\n",
        "    LSTM(120, return_sequences = True, input_shape = (240, 2)),\n",
        "    LSTM(100, return_sequences = True),\n",
        "    LSTM(90),\n",
        "    Dense(1, activation='linear', kernel_regularizer = tf.keras.regularizers.L2(0.01))\n",
        "])\n",
        "myModel.compile(loss = 'mean_squared_error', optimizer = 'adam')\n",
        "myModel.summary()"
      ],
      "metadata": {
        "colab": {
          "base_uri": "https://localhost:8080/"
        },
        "id": "9n3YAzB8vwDb",
        "outputId": "e71aa0a8-cff8-4b31-fb3a-358d6f766569"
      },
      "execution_count": null,
      "outputs": [
        {
          "output_type": "stream",
          "name": "stdout",
          "text": [
            "Model: \"sequential_1\"\n",
            "_________________________________________________________________\n",
            " Layer (type)                Output Shape              Param #   \n",
            "=================================================================\n",
            " lstm_3 (LSTM)               (None, 240, 120)          59040     \n",
            "                                                                 \n",
            " lstm_4 (LSTM)               (None, 240, 100)          88400     \n",
            "                                                                 \n",
            " lstm_5 (LSTM)               (None, 90)                68760     \n",
            "                                                                 \n",
            " dense_1 (Dense)             (None, 1)                 91        \n",
            "                                                                 \n",
            "=================================================================\n",
            "Total params: 216291 (844.89 KB)\n",
            "Trainable params: 216291 (844.89 KB)\n",
            "Non-trainable params: 0 (0.00 Byte)\n",
            "_________________________________________________________________\n"
          ]
        }
      ]
    },
    {
      "cell_type": "code",
      "source": [
        "myModel.fit(X_train, y_train, validation_data = (X_test, y_test), epochs = 120, batch_size = 50, verbose = 1)\n",
        "# myModel.fit(X_train, y_train, epochs = 120, batch_size = 50, verbose = 1)"
      ],
      "metadata": {
        "id": "C-ZXqYz1wD-N",
        "colab": {
          "base_uri": "https://localhost:8080/"
        },
        "outputId": "b5b11dd8-3fb8-4c93-c113-86c373351bec"
      },
      "execution_count": null,
      "outputs": [
        {
          "output_type": "stream",
          "name": "stdout",
          "text": [
            "Epoch 1/120\n",
            "149/149 [==============================] - 10s 30ms/step - loss: 0.0181\n",
            "Epoch 2/120\n",
            "149/149 [==============================] - 5s 30ms/step - loss: 0.0052\n",
            "Epoch 3/120\n",
            "149/149 [==============================] - 4s 29ms/step - loss: 0.0020\n",
            "Epoch 4/120\n",
            "149/149 [==============================] - 4s 29ms/step - loss: 0.0013\n",
            "Epoch 5/120\n",
            "149/149 [==============================] - 5s 30ms/step - loss: 9.8884e-04\n",
            "Epoch 6/120\n",
            "149/149 [==============================] - 4s 30ms/step - loss: 8.1464e-04\n",
            "Epoch 7/120\n",
            "149/149 [==============================] - 4s 30ms/step - loss: 6.8821e-04\n",
            "Epoch 8/120\n",
            "149/149 [==============================] - 4s 30ms/step - loss: 6.1504e-04\n",
            "Epoch 9/120\n",
            "149/149 [==============================] - 4s 28ms/step - loss: 5.3510e-04\n",
            "Epoch 10/120\n",
            "149/149 [==============================] - 4s 29ms/step - loss: 4.9803e-04\n",
            "Epoch 11/120\n",
            "149/149 [==============================] - 4s 30ms/step - loss: 4.9386e-04\n",
            "Epoch 12/120\n",
            "149/149 [==============================] - 4s 28ms/step - loss: 4.6812e-04\n",
            "Epoch 13/120\n",
            "149/149 [==============================] - 4s 28ms/step - loss: 4.0381e-04\n",
            "Epoch 14/120\n",
            "149/149 [==============================] - 4s 29ms/step - loss: 4.5596e-04\n",
            "Epoch 15/120\n",
            "149/149 [==============================] - 4s 28ms/step - loss: 4.3473e-04\n",
            "Epoch 16/120\n",
            "149/149 [==============================] - 5s 34ms/step - loss: 3.6966e-04\n",
            "Epoch 17/120\n",
            "149/149 [==============================] - 5s 33ms/step - loss: 3.6852e-04\n",
            "Epoch 18/120\n",
            "149/149 [==============================] - 4s 28ms/step - loss: 3.5967e-04\n",
            "Epoch 19/120\n",
            "149/149 [==============================] - 4s 30ms/step - loss: 3.3798e-04\n",
            "Epoch 20/120\n",
            "149/149 [==============================] - 4s 30ms/step - loss: 3.3465e-04\n",
            "Epoch 21/120\n",
            "149/149 [==============================] - 4s 28ms/step - loss: 3.3032e-04\n",
            "Epoch 22/120\n",
            "149/149 [==============================] - 4s 29ms/step - loss: 2.9255e-04\n",
            "Epoch 23/120\n",
            "149/149 [==============================] - 4s 30ms/step - loss: 3.2450e-04\n",
            "Epoch 24/120\n",
            "149/149 [==============================] - 4s 28ms/step - loss: 2.8519e-04\n",
            "Epoch 25/120\n",
            "149/149 [==============================] - 4s 29ms/step - loss: 2.6484e-04\n",
            "Epoch 26/120\n",
            "149/149 [==============================] - 4s 29ms/step - loss: 2.8126e-04\n",
            "Epoch 27/120\n",
            "149/149 [==============================] - 4s 28ms/step - loss: 2.4777e-04\n",
            "Epoch 28/120\n",
            "149/149 [==============================] - 4s 29ms/step - loss: 2.6824e-04\n",
            "Epoch 29/120\n",
            "149/149 [==============================] - 4s 30ms/step - loss: 3.1717e-04\n",
            "Epoch 30/120\n",
            "149/149 [==============================] - 4s 28ms/step - loss: 2.3304e-04\n",
            "Epoch 31/120\n",
            "149/149 [==============================] - 4s 29ms/step - loss: 2.5680e-04\n",
            "Epoch 32/120\n",
            "149/149 [==============================] - 4s 30ms/step - loss: 2.6317e-04\n",
            "Epoch 33/120\n",
            "149/149 [==============================] - 4s 28ms/step - loss: 2.4199e-04\n",
            "Epoch 34/120\n",
            "149/149 [==============================] - 4s 28ms/step - loss: 2.2950e-04\n",
            "Epoch 35/120\n",
            "149/149 [==============================] - 5s 31ms/step - loss: 2.7635e-04\n",
            "Epoch 36/120\n",
            "149/149 [==============================] - 4s 28ms/step - loss: 2.3457e-04\n",
            "Epoch 37/120\n",
            "149/149 [==============================] - 4s 28ms/step - loss: 2.4226e-04\n",
            "Epoch 38/120\n",
            "149/149 [==============================] - 5s 31ms/step - loss: 2.1448e-04\n",
            "Epoch 39/120\n",
            "149/149 [==============================] - 4s 30ms/step - loss: 2.3278e-04\n",
            "Epoch 40/120\n",
            "149/149 [==============================] - 4s 29ms/step - loss: 2.0959e-04\n",
            "Epoch 41/120\n",
            "149/149 [==============================] - 5s 30ms/step - loss: 2.3453e-04\n",
            "Epoch 42/120\n",
            "149/149 [==============================] - 4s 28ms/step - loss: 2.1510e-04\n",
            "Epoch 43/120\n",
            "149/149 [==============================] - 4s 28ms/step - loss: 2.2690e-04\n",
            "Epoch 44/120\n",
            "149/149 [==============================] - 5s 30ms/step - loss: 2.1072e-04\n",
            "Epoch 45/120\n",
            "149/149 [==============================] - 4s 28ms/step - loss: 2.1025e-04\n",
            "Epoch 46/120\n",
            "149/149 [==============================] - 4s 28ms/step - loss: 2.1012e-04\n",
            "Epoch 47/120\n",
            "149/149 [==============================] - 5s 30ms/step - loss: 2.3880e-04\n",
            "Epoch 48/120\n",
            "149/149 [==============================] - 4s 28ms/step - loss: 2.0194e-04\n",
            "Epoch 49/120\n",
            "149/149 [==============================] - 5s 31ms/step - loss: 2.0346e-04\n",
            "Epoch 50/120\n",
            "149/149 [==============================] - 5s 31ms/step - loss: 1.9861e-04\n",
            "Epoch 51/120\n",
            "149/149 [==============================] - 4s 28ms/step - loss: 2.0448e-04\n",
            "Epoch 52/120\n",
            "149/149 [==============================] - 4s 28ms/step - loss: 2.0065e-04\n",
            "Epoch 53/120\n",
            "149/149 [==============================] - 5s 31ms/step - loss: 2.1432e-04\n",
            "Epoch 54/120\n",
            "149/149 [==============================] - 4s 28ms/step - loss: 2.0182e-04\n",
            "Epoch 55/120\n",
            "149/149 [==============================] - 4s 28ms/step - loss: 2.2266e-04\n",
            "Epoch 56/120\n",
            "149/149 [==============================] - 5s 31ms/step - loss: 1.8803e-04\n",
            "Epoch 57/120\n",
            "149/149 [==============================] - 4s 28ms/step - loss: 1.8992e-04\n",
            "Epoch 58/120\n",
            "149/149 [==============================] - 4s 28ms/step - loss: 2.0224e-04\n",
            "Epoch 59/120\n",
            "149/149 [==============================] - 5s 31ms/step - loss: 1.9599e-04\n",
            "Epoch 60/120\n",
            "149/149 [==============================] - 4s 28ms/step - loss: 2.1839e-04\n",
            "Epoch 61/120\n",
            "149/149 [==============================] - 4s 28ms/step - loss: 1.9608e-04\n",
            "Epoch 62/120\n",
            "149/149 [==============================] - 4s 30ms/step - loss: 1.8881e-04\n",
            "Epoch 63/120\n",
            "149/149 [==============================] - 4s 28ms/step - loss: 2.4821e-04\n",
            "Epoch 64/120\n",
            "149/149 [==============================] - 4s 28ms/step - loss: 1.8899e-04\n",
            "Epoch 65/120\n",
            "149/149 [==============================] - 5s 31ms/step - loss: 1.8706e-04\n",
            "Epoch 66/120\n",
            "149/149 [==============================] - 4s 28ms/step - loss: 1.7645e-04\n",
            "Epoch 67/120\n",
            "149/149 [==============================] - 4s 28ms/step - loss: 1.7698e-04\n",
            "Epoch 68/120\n",
            "149/149 [==============================] - 4s 30ms/step - loss: 1.6800e-04\n",
            "Epoch 69/120\n",
            "149/149 [==============================] - 4s 28ms/step - loss: 1.9091e-04\n",
            "Epoch 70/120\n",
            "149/149 [==============================] - 4s 28ms/step - loss: 1.8495e-04\n",
            "Epoch 71/120\n",
            "149/149 [==============================] - 5s 30ms/step - loss: 1.7944e-04\n",
            "Epoch 72/120\n",
            "149/149 [==============================] - 4s 28ms/step - loss: 1.6731e-04\n",
            "Epoch 73/120\n",
            "149/149 [==============================] - 4s 28ms/step - loss: 2.0654e-04\n",
            "Epoch 74/120\n",
            "149/149 [==============================] - 4s 30ms/step - loss: 1.6847e-04\n",
            "Epoch 75/120\n",
            "149/149 [==============================] - 4s 28ms/step - loss: 2.0216e-04\n",
            "Epoch 76/120\n",
            "149/149 [==============================] - 4s 28ms/step - loss: 1.9327e-04\n",
            "Epoch 77/120\n",
            "149/149 [==============================] - 4s 30ms/step - loss: 1.7419e-04\n",
            "Epoch 78/120\n",
            "149/149 [==============================] - 4s 28ms/step - loss: 2.0766e-04\n",
            "Epoch 79/120\n",
            "149/149 [==============================] - 4s 28ms/step - loss: 1.7234e-04\n",
            "Epoch 80/120\n",
            "149/149 [==============================] - 5s 30ms/step - loss: 1.7828e-04\n",
            "Epoch 81/120\n",
            "149/149 [==============================] - 4s 28ms/step - loss: 1.6477e-04\n",
            "Epoch 82/120\n",
            "149/149 [==============================] - 4s 28ms/step - loss: 1.7238e-04\n",
            "Epoch 83/120\n",
            "149/149 [==============================] - 4s 30ms/step - loss: 2.0732e-04\n",
            "Epoch 84/120\n",
            "149/149 [==============================] - 4s 29ms/step - loss: 1.6494e-04\n",
            "Epoch 85/120\n",
            "149/149 [==============================] - 4s 28ms/step - loss: 1.5769e-04\n",
            "Epoch 86/120\n",
            "149/149 [==============================] - 4s 30ms/step - loss: 1.5562e-04\n",
            "Epoch 87/120\n",
            "149/149 [==============================] - 4s 29ms/step - loss: 1.7203e-04\n",
            "Epoch 88/120\n",
            "149/149 [==============================] - 4s 28ms/step - loss: 1.7741e-04\n",
            "Epoch 89/120\n",
            "149/149 [==============================] - 4s 30ms/step - loss: 1.6814e-04\n",
            "Epoch 90/120\n",
            "149/149 [==============================] - 4s 29ms/step - loss: 1.5834e-04\n",
            "Epoch 91/120\n",
            "149/149 [==============================] - 4s 30ms/step - loss: 1.6455e-04\n",
            "Epoch 92/120\n",
            "149/149 [==============================] - 5s 31ms/step - loss: 1.5953e-04\n",
            "Epoch 93/120\n",
            "149/149 [==============================] - 4s 29ms/step - loss: 1.8035e-04\n",
            "Epoch 94/120\n",
            "149/149 [==============================] - 4s 28ms/step - loss: 1.6625e-04\n",
            "Epoch 95/120\n",
            "149/149 [==============================] - 4s 30ms/step - loss: 1.6314e-04\n",
            "Epoch 96/120\n",
            "149/149 [==============================] - 4s 29ms/step - loss: 1.5772e-04\n",
            "Epoch 97/120\n",
            "149/149 [==============================] - 4s 28ms/step - loss: 1.4933e-04\n",
            "Epoch 98/120\n",
            "149/149 [==============================] - 4s 30ms/step - loss: 1.5877e-04\n",
            "Epoch 99/120\n",
            "149/149 [==============================] - 4s 29ms/step - loss: 1.5008e-04\n",
            "Epoch 100/120\n",
            "149/149 [==============================] - 4s 28ms/step - loss: 1.5066e-04\n",
            "Epoch 101/120\n",
            "149/149 [==============================] - 5s 32ms/step - loss: 1.6568e-04\n",
            "Epoch 102/120\n",
            "149/149 [==============================] - 5s 34ms/step - loss: 1.5425e-04\n",
            "Epoch 103/120\n",
            "149/149 [==============================] - 4s 28ms/step - loss: 1.5393e-04\n",
            "Epoch 104/120\n",
            "149/149 [==============================] - 4s 28ms/step - loss: 1.5149e-04\n",
            "Epoch 105/120\n",
            "149/149 [==============================] - 5s 30ms/step - loss: 1.8894e-04\n",
            "Epoch 106/120\n",
            "149/149 [==============================] - 4s 28ms/step - loss: 1.5609e-04\n",
            "Epoch 107/120\n",
            "149/149 [==============================] - 4s 28ms/step - loss: 1.4798e-04\n",
            "Epoch 108/120\n",
            "149/149 [==============================] - 5s 31ms/step - loss: 1.5293e-04\n",
            "Epoch 109/120\n",
            "149/149 [==============================] - 4s 28ms/step - loss: 1.6645e-04\n",
            "Epoch 110/120\n",
            "149/149 [==============================] - 4s 28ms/step - loss: 1.4528e-04\n",
            "Epoch 111/120\n",
            "149/149 [==============================] - 5s 31ms/step - loss: 1.4624e-04\n",
            "Epoch 112/120\n",
            "149/149 [==============================] - 4s 28ms/step - loss: 1.4770e-04\n",
            "Epoch 113/120\n",
            "149/149 [==============================] - 4s 28ms/step - loss: 1.5416e-04\n",
            "Epoch 114/120\n",
            "149/149 [==============================] - 5s 30ms/step - loss: 1.5440e-04\n",
            "Epoch 115/120\n",
            "149/149 [==============================] - 4s 28ms/step - loss: 1.7639e-04\n",
            "Epoch 116/120\n",
            "149/149 [==============================] - 4s 28ms/step - loss: 1.5622e-04\n",
            "Epoch 117/120\n",
            "149/149 [==============================] - 4s 30ms/step - loss: 1.3803e-04\n",
            "Epoch 118/120\n",
            "149/149 [==============================] - 4s 28ms/step - loss: 1.4623e-04\n",
            "Epoch 119/120\n",
            "149/149 [==============================] - 4s 28ms/step - loss: 1.5853e-04\n",
            "Epoch 120/120\n",
            "149/149 [==============================] - 5s 31ms/step - loss: 1.4122e-04\n"
          ]
        },
        {
          "output_type": "execute_result",
          "data": {
            "text/plain": [
              "<keras.src.callbacks.History at 0x7d403ff991b0>"
            ]
          },
          "metadata": {},
          "execution_count": 68
        }
      ]
    },
    {
      "cell_type": "code",
      "source": [
        "import matplotlib.pyplot as plt\n",
        "\n",
        "plt.plot(myModel.history.history['loss'])"
      ],
      "metadata": {
        "colab": {
          "base_uri": "https://localhost:8080/",
          "height": 447
        },
        "id": "0gHc-oCQAD8X",
        "outputId": "34c0917b-2919-4f82-ec89-68f36135efe1"
      },
      "execution_count": null,
      "outputs": [
        {
          "output_type": "execute_result",
          "data": {
            "text/plain": [
              "[<matplotlib.lines.Line2D at 0x7d4100311270>]"
            ]
          },
          "metadata": {},
          "execution_count": 69
        },
        {
          "output_type": "display_data",
          "data": {
            "text/plain": [
              "<Figure size 640x480 with 1 Axes>"
            ],
            "image/png": "[encoded data removed]"
          },
          "metadata": {}
        }
      ]
    },
    {
      "cell_type": "code",
      "source": [
        "train_prediction = mm_obj.inverse_transform(myModel.predict(X_train))\n",
        "test_prediction = mm_obj.inverse_transform(myModel.predict(X_test))\n",
        "print(math.sqrt(mean_squared_error(mm_obj.inverse_transform(y_train.reshape(-1,1)),train_prediction)))\n",
        "print(math.sqrt(mean_squared_error(mm_obj.inverse_transform(y_test.reshape(-1,1)),test_prediction)))"
      ],
      "metadata": {
        "colab": {
          "base_uri": "https://localhost:8080/"
        },
        "id": "1Gw2jFbtDMs0",
        "outputId": "4b738a5c-7459-4805-f4fb-75b3bacfd1f3"
      },
      "execution_count": null,
      "outputs": [
        {
          "output_type": "stream",
          "name": "stdout",
          "text": [
            "233/233 [==============================] - 6s 19ms/step\n",
            "143.44095793172744\n"
          ]
        }
      ]
    },
    {
      "cell_type": "code",
      "source": [
        "# mm_obj.inverse_transform(y_train.reshape(-1,1))\n",
        "# train_prediction"
      ],
      "metadata": {
        "colab": {
          "base_uri": "https://localhost:8080/"
        },
        "id": "BV2BQ8K-EtWi",
        "outputId": "451c04c0-d180-4a04-a06c-3bcd0ba6f97d"
      },
      "execution_count": null,
      "outputs": [
        {
          "output_type": "execute_result",
          "data": {
            "text/plain": [
              "array([0.84896369, 0.85707553, 0.85707882, ..., 0.32063805, 0.32023553,\n",
              "       0.31686498])"
            ]
          },
          "metadata": {},
          "execution_count": 28
        }
      ]
    },
    {
      "cell_type": "code",
      "source": [
        "d = pd.read_csv(\"data.csv\")\n",
        "# d.values"
      ],
      "metadata": {
        "id": "DY8tN6XpY7kE"
      },
      "execution_count": null,
      "outputs": []
    },
    {
      "cell_type": "code",
      "source": [
        "a = d.values\n",
        "feat = mm_obj.transform(a[:,0].reshape(-1,1))\n",
        "l = []\n",
        "for i in range(len(feat)):\n",
        "    l.append([feat[i][0], a[i,1]])\n",
        "a = np.array(l)"
      ],
      "metadata": {
        "id": "9Uryl5kfZKok"
      },
      "execution_count": null,
      "outputs": []
    },
    {
      "cell_type": "code",
      "source": [
        "mm_obj.inverse_transform(myModel.predict(a.reshape(1,a.shape[0], a.shape[1])))"
      ],
      "metadata": {
        "colab": {
          "base_uri": "https://localhost:8080/"
        },
        "id": "LpAbV2rsa31O",
        "outputId": "ae3f7a75-9a25-4df6-8670-4b0ef8dfe59d"
      },
      "execution_count": null,
      "outputs": [
        {
          "output_type": "stream",
          "name": "stdout",
          "text": [
            "1/1 [==============================] - 0s 28ms/step\n"
          ]
        },
        {
          "output_type": "execute_result",
          "data": {
            "text/plain": [
              "array([[29438.607]], dtype=float32)"
            ]
          },
          "metadata": {},
          "execution_count": 37
        }
      ]
    },
    {
      "cell_type": "code",
      "source": [
        "%pip install h5py"
      ],
      "metadata": {
        "colab": {
          "base_uri": "https://localhost:8080/"
        },
        "id": "9goZQLTvcwfQ",
        "outputId": "3c270628-39b7-4a89-c863-4fd8bd913df5"
      },
      "execution_count": null,
      "outputs": [
        {
          "output_type": "stream",
          "name": "stdout",
          "text": [
            "Requirement already satisfied: h5py in /usr/local/lib/python3.10/dist-packages (3.9.0)\n",
            "Requirement already satisfied: numpy>=1.17.3 in /usr/local/lib/python3.10/dist-packages (from h5py) (1.23.5)\n"
          ]
        }
      ]
    },
    {
      "cell_type": "code",
      "source": [
        "myModel.save(\"model.h5\")"
      ],
      "metadata": {
        "colab": {
          "base_uri": "https://localhost:8080/"
        },
        "id": "MSFgzXMBeKi7",
        "outputId": "64895873-cd7b-437b-9a66-f3aa28a60e13"
      },
      "execution_count": null,
      "outputs": [
        {
          "output_type": "stream",
          "name": "stderr",
          "text": [
            "/usr/local/lib/python3.10/dist-packages/keras/src/engine/training.py:3000: UserWarning: You are saving your model as an HDF5 file via `model.save()`. This file format is considered legacy. We recommend using instead the native Keras format, e.g. `model.save('my_model.keras')`.\n",
            "  saving_api.save_model(\n"
          ]
        }
      ]
    }
  ]
}